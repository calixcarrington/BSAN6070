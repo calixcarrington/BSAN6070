{
  "nbformat": 4,
  "nbformat_minor": 0,
  "metadata": {
    "kernelspec": {
      "display_name": "Python 3",
      "language": "python",
      "name": "python3"
    },
    "language_info": {
      "codemirror_mode": {
        "name": "ipython",
        "version": 3
      },
      "file_extension": ".py",
      "mimetype": "text/x-python",
      "name": "python",
      "nbconvert_exporter": "python",
      "pygments_lexer": "ipython3",
      "version": "3.5.4"
    },
    "colab": {
      "name": "India Air Quality-CA01-Calix Carrington.ipynb",
      "provenance": [],
      "collapsed_sections": [],
      "toc_visible": true
    }
  },
  "cells": [
    {
      "cell_type": "markdown",
      "metadata": {
        "id": "uQAg_zNi_g9m",
        "colab_type": "text"
      },
      "source": [
        "# Your name: Calix Carrington\n",
        "## Assignment Name: CA01 - Data Cleaning and Exploration of India Air Quality"
      ]
    },
    {
      "cell_type": "markdown",
      "metadata": {
        "id": "T9jU8AhP_g9p",
        "colab_type": "text"
      },
      "source": [
        "# Program Inititialization Section\n",
        "## Enter your import packages here"
      ]
    },
    {
      "cell_type": "code",
      "metadata": {
        "id": "M41S3PA6_g9q",
        "colab_type": "code",
        "colab": {}
      },
      "source": [
        "# import packages \n",
        "import pandas as pd\n",
        "import numpy as np\n",
        "import matplotlib.pyplot as plt\n",
        "import datetime\n",
        "from sklearn.impute import SimpleImputer"
      ],
      "execution_count": 0,
      "outputs": []
    },
    {
      "cell_type": "markdown",
      "metadata": {
        "id": "Vg_cXziV_g9w",
        "colab_type": "text"
      },
      "source": [
        "# Data File Reading Section\n",
        "## Write code to read in data from external sources here"
      ]
    },
    {
      "cell_type": "code",
      "metadata": {
        "id": "X6D_sYjJ_g9x",
        "colab_type": "code",
        "outputId": "04509150-2515-4928-b4df-740560287757",
        "colab": {
          "base_uri": "https://localhost:8080/",
          "height": 238
        }
      },
      "source": [
        "#read datasets\n",
        "data = pd.read_csv('/content/data.csv')\n",
        "data.head()"
      ],
      "execution_count": 84,
      "outputs": [
        {
          "output_type": "stream",
          "text": [
            "/usr/local/lib/python3.6/dist-packages/IPython/core/interactiveshell.py:2718: DtypeWarning: Columns (0) have mixed types. Specify dtype option on import or set low_memory=False.\n",
            "  interactivity=interactivity, compiler=compiler, result=result)\n"
          ],
          "name": "stderr"
        },
        {
          "output_type": "execute_result",
          "data": {
            "text/html": [
              "<div>\n",
              "<style scoped>\n",
              "    .dataframe tbody tr th:only-of-type {\n",
              "        vertical-align: middle;\n",
              "    }\n",
              "\n",
              "    .dataframe tbody tr th {\n",
              "        vertical-align: top;\n",
              "    }\n",
              "\n",
              "    .dataframe thead th {\n",
              "        text-align: right;\n",
              "    }\n",
              "</style>\n",
              "<table border=\"1\" class=\"dataframe\">\n",
              "  <thead>\n",
              "    <tr style=\"text-align: right;\">\n",
              "      <th></th>\n",
              "      <th>stn_code</th>\n",
              "      <th>sampling_date</th>\n",
              "      <th>state</th>\n",
              "      <th>location</th>\n",
              "      <th>agency</th>\n",
              "      <th>type</th>\n",
              "      <th>so2</th>\n",
              "      <th>no2</th>\n",
              "      <th>rspm</th>\n",
              "      <th>spm</th>\n",
              "      <th>location_monitoring_station</th>\n",
              "      <th>pm2_5</th>\n",
              "      <th>date</th>\n",
              "    </tr>\n",
              "  </thead>\n",
              "  <tbody>\n",
              "    <tr>\n",
              "      <th>0</th>\n",
              "      <td>150</td>\n",
              "      <td>February - M021990</td>\n",
              "      <td>Andhra Pradesh</td>\n",
              "      <td>Hyderabad</td>\n",
              "      <td>NaN</td>\n",
              "      <td>Residential, Rural and other Areas</td>\n",
              "      <td>4.8</td>\n",
              "      <td>17.4</td>\n",
              "      <td>NaN</td>\n",
              "      <td>NaN</td>\n",
              "      <td>NaN</td>\n",
              "      <td>NaN</td>\n",
              "      <td>2/1/1990</td>\n",
              "    </tr>\n",
              "    <tr>\n",
              "      <th>1</th>\n",
              "      <td>151</td>\n",
              "      <td>February - M021990</td>\n",
              "      <td>Andhra Pradesh</td>\n",
              "      <td>Hyderabad</td>\n",
              "      <td>NaN</td>\n",
              "      <td>Industrial Area</td>\n",
              "      <td>3.1</td>\n",
              "      <td>7.0</td>\n",
              "      <td>NaN</td>\n",
              "      <td>NaN</td>\n",
              "      <td>NaN</td>\n",
              "      <td>NaN</td>\n",
              "      <td>2/1/1990</td>\n",
              "    </tr>\n",
              "    <tr>\n",
              "      <th>2</th>\n",
              "      <td>152</td>\n",
              "      <td>February - M021990</td>\n",
              "      <td>Andhra Pradesh</td>\n",
              "      <td>Hyderabad</td>\n",
              "      <td>NaN</td>\n",
              "      <td>Residential, Rural and other Areas</td>\n",
              "      <td>6.2</td>\n",
              "      <td>28.5</td>\n",
              "      <td>NaN</td>\n",
              "      <td>NaN</td>\n",
              "      <td>NaN</td>\n",
              "      <td>NaN</td>\n",
              "      <td>2/1/1990</td>\n",
              "    </tr>\n",
              "    <tr>\n",
              "      <th>3</th>\n",
              "      <td>150</td>\n",
              "      <td>March - M031990</td>\n",
              "      <td>Andhra Pradesh</td>\n",
              "      <td>Hyderabad</td>\n",
              "      <td>NaN</td>\n",
              "      <td>Residential, Rural and other Areas</td>\n",
              "      <td>6.3</td>\n",
              "      <td>14.7</td>\n",
              "      <td>NaN</td>\n",
              "      <td>NaN</td>\n",
              "      <td>NaN</td>\n",
              "      <td>NaN</td>\n",
              "      <td>3/1/1990</td>\n",
              "    </tr>\n",
              "    <tr>\n",
              "      <th>4</th>\n",
              "      <td>151</td>\n",
              "      <td>March - M031990</td>\n",
              "      <td>Andhra Pradesh</td>\n",
              "      <td>Hyderabad</td>\n",
              "      <td>NaN</td>\n",
              "      <td>Industrial Area</td>\n",
              "      <td>4.7</td>\n",
              "      <td>7.5</td>\n",
              "      <td>NaN</td>\n",
              "      <td>NaN</td>\n",
              "      <td>NaN</td>\n",
              "      <td>NaN</td>\n",
              "      <td>3/1/1990</td>\n",
              "    </tr>\n",
              "  </tbody>\n",
              "</table>\n",
              "</div>"
            ],
            "text/plain": [
              "  stn_code       sampling_date  ... pm2_5      date\n",
              "0      150  February - M021990  ...   NaN  2/1/1990\n",
              "1      151  February - M021990  ...   NaN  2/1/1990\n",
              "2      152  February - M021990  ...   NaN  2/1/1990\n",
              "3      150     March - M031990  ...   NaN  3/1/1990\n",
              "4      151     March - M031990  ...   NaN  3/1/1990\n",
              "\n",
              "[5 rows x 13 columns]"
            ]
          },
          "metadata": {
            "tags": []
          },
          "execution_count": 84
        }
      ]
    },
    {
      "cell_type": "markdown",
      "metadata": {
        "id": "n2De26cK_g93",
        "colab_type": "text"
      },
      "source": [
        "# Initial Data Investigation Section\n",
        "\n",
        "## Summarized details\n",
        "### Generate descriptive statistics that summarize the central tendency, dispersion, and shape of a dataset’s distribution, excluding NaN values.\n",
        "#### Steps:\n",
        "#### 1. Statistical Description of data (data.describe)\n",
        "#### 2. Display number of total rows and columns of the dataset (data.shape)\n",
        "#### 3. Display number of non-null values for each column (data.count)\n",
        "#### 4. Display number of null values for each column (sum of data.isnull)\n",
        "#### 5. Display range, column, number of non-null objects of each column, datatype and memory usage (data.info)\n",
        "#### 6. Display Top 10 and Bottom 10 records (head and tail)"
      ]
    },
    {
      "cell_type": "code",
      "metadata": {
        "scrolled": false,
        "id": "hHub99L__g94",
        "colab_type": "code",
        "outputId": "a8333a19-efcf-4199-c64d-e55b717a1ace",
        "colab": {
          "base_uri": "https://localhost:8080/",
          "height": 1000
        }
      },
      "source": [
        "# Your code for this section here ...\n",
        "display(data.describe()) #1\n",
        "display(data.shape) #2\n",
        "display(data.count()) #3\n",
        "display(data.isnull().sum()) #4\n",
        "display(data.info()) #5"
      ],
      "execution_count": 85,
      "outputs": [
        {
          "output_type": "display_data",
          "data": {
            "text/html": [
              "<div>\n",
              "<style scoped>\n",
              "    .dataframe tbody tr th:only-of-type {\n",
              "        vertical-align: middle;\n",
              "    }\n",
              "\n",
              "    .dataframe tbody tr th {\n",
              "        vertical-align: top;\n",
              "    }\n",
              "\n",
              "    .dataframe thead th {\n",
              "        text-align: right;\n",
              "    }\n",
              "</style>\n",
              "<table border=\"1\" class=\"dataframe\">\n",
              "  <thead>\n",
              "    <tr style=\"text-align: right;\">\n",
              "      <th></th>\n",
              "      <th>so2</th>\n",
              "      <th>no2</th>\n",
              "      <th>rspm</th>\n",
              "      <th>spm</th>\n",
              "      <th>pm2_5</th>\n",
              "    </tr>\n",
              "  </thead>\n",
              "  <tbody>\n",
              "    <tr>\n",
              "      <th>count</th>\n",
              "      <td>401096.000000</td>\n",
              "      <td>419509.000000</td>\n",
              "      <td>395520.000000</td>\n",
              "      <td>198355.000000</td>\n",
              "      <td>9314.000000</td>\n",
              "    </tr>\n",
              "    <tr>\n",
              "      <th>mean</th>\n",
              "      <td>10.829414</td>\n",
              "      <td>25.809623</td>\n",
              "      <td>108.832784</td>\n",
              "      <td>220.783480</td>\n",
              "      <td>40.791467</td>\n",
              "    </tr>\n",
              "    <tr>\n",
              "      <th>std</th>\n",
              "      <td>11.177187</td>\n",
              "      <td>18.503086</td>\n",
              "      <td>74.872430</td>\n",
              "      <td>151.395457</td>\n",
              "      <td>30.832525</td>\n",
              "    </tr>\n",
              "    <tr>\n",
              "      <th>min</th>\n",
              "      <td>0.000000</td>\n",
              "      <td>0.000000</td>\n",
              "      <td>0.000000</td>\n",
              "      <td>0.000000</td>\n",
              "      <td>3.000000</td>\n",
              "    </tr>\n",
              "    <tr>\n",
              "      <th>25%</th>\n",
              "      <td>5.000000</td>\n",
              "      <td>14.000000</td>\n",
              "      <td>56.000000</td>\n",
              "      <td>111.000000</td>\n",
              "      <td>24.000000</td>\n",
              "    </tr>\n",
              "    <tr>\n",
              "      <th>50%</th>\n",
              "      <td>8.000000</td>\n",
              "      <td>22.000000</td>\n",
              "      <td>90.000000</td>\n",
              "      <td>187.000000</td>\n",
              "      <td>32.000000</td>\n",
              "    </tr>\n",
              "    <tr>\n",
              "      <th>75%</th>\n",
              "      <td>13.700000</td>\n",
              "      <td>32.200000</td>\n",
              "      <td>142.000000</td>\n",
              "      <td>296.000000</td>\n",
              "      <td>46.000000</td>\n",
              "    </tr>\n",
              "    <tr>\n",
              "      <th>max</th>\n",
              "      <td>909.000000</td>\n",
              "      <td>876.000000</td>\n",
              "      <td>6307.033333</td>\n",
              "      <td>3380.000000</td>\n",
              "      <td>504.000000</td>\n",
              "    </tr>\n",
              "  </tbody>\n",
              "</table>\n",
              "</div>"
            ],
            "text/plain": [
              "                 so2            no2           rspm            spm        pm2_5\n",
              "count  401096.000000  419509.000000  395520.000000  198355.000000  9314.000000\n",
              "mean       10.829414      25.809623     108.832784     220.783480    40.791467\n",
              "std        11.177187      18.503086      74.872430     151.395457    30.832525\n",
              "min         0.000000       0.000000       0.000000       0.000000     3.000000\n",
              "25%         5.000000      14.000000      56.000000     111.000000    24.000000\n",
              "50%         8.000000      22.000000      90.000000     187.000000    32.000000\n",
              "75%        13.700000      32.200000     142.000000     296.000000    46.000000\n",
              "max       909.000000     876.000000    6307.033333    3380.000000   504.000000"
            ]
          },
          "metadata": {
            "tags": []
          }
        },
        {
          "output_type": "display_data",
          "data": {
            "text/plain": [
              "(435742, 13)"
            ]
          },
          "metadata": {
            "tags": []
          }
        },
        {
          "output_type": "display_data",
          "data": {
            "text/plain": [
              "stn_code                       291665\n",
              "sampling_date                  435739\n",
              "state                          435742\n",
              "location                       435739\n",
              "agency                         286261\n",
              "type                           430349\n",
              "so2                            401096\n",
              "no2                            419509\n",
              "rspm                           395520\n",
              "spm                            198355\n",
              "location_monitoring_station    408251\n",
              "pm2_5                            9314\n",
              "date                           435735\n",
              "dtype: int64"
            ]
          },
          "metadata": {
            "tags": []
          }
        },
        {
          "output_type": "display_data",
          "data": {
            "text/plain": [
              "stn_code                       144077\n",
              "sampling_date                       3\n",
              "state                               0\n",
              "location                            3\n",
              "agency                         149481\n",
              "type                             5393\n",
              "so2                             34646\n",
              "no2                             16233\n",
              "rspm                            40222\n",
              "spm                            237387\n",
              "location_monitoring_station     27491\n",
              "pm2_5                          426428\n",
              "date                                7\n",
              "dtype: int64"
            ]
          },
          "metadata": {
            "tags": []
          }
        },
        {
          "output_type": "stream",
          "text": [
            "<class 'pandas.core.frame.DataFrame'>\n",
            "RangeIndex: 435742 entries, 0 to 435741\n",
            "Data columns (total 13 columns):\n",
            "stn_code                       291665 non-null object\n",
            "sampling_date                  435739 non-null object\n",
            "state                          435742 non-null object\n",
            "location                       435739 non-null object\n",
            "agency                         286261 non-null object\n",
            "type                           430349 non-null object\n",
            "so2                            401096 non-null float64\n",
            "no2                            419509 non-null float64\n",
            "rspm                           395520 non-null float64\n",
            "spm                            198355 non-null float64\n",
            "location_monitoring_station    408251 non-null object\n",
            "pm2_5                          9314 non-null float64\n",
            "date                           435735 non-null object\n",
            "dtypes: float64(5), object(8)\n",
            "memory usage: 43.2+ MB\n"
          ],
          "name": "stdout"
        },
        {
          "output_type": "display_data",
          "data": {
            "text/plain": [
              "None"
            ]
          },
          "metadata": {
            "tags": []
          }
        }
      ]
    },
    {
      "cell_type": "code",
      "metadata": {
        "id": "j4PMxD-aFSyP",
        "colab_type": "code",
        "outputId": "737725dc-600b-4497-efe9-63665a06931c",
        "colab": {
          "base_uri": "https://localhost:8080/",
          "height": 391
        }
      },
      "source": [
        "display(data.head())\n",
        "display(data.tail()) #6"
      ],
      "execution_count": 86,
      "outputs": [
        {
          "output_type": "display_data",
          "data": {
            "text/html": [
              "<div>\n",
              "<style scoped>\n",
              "    .dataframe tbody tr th:only-of-type {\n",
              "        vertical-align: middle;\n",
              "    }\n",
              "\n",
              "    .dataframe tbody tr th {\n",
              "        vertical-align: top;\n",
              "    }\n",
              "\n",
              "    .dataframe thead th {\n",
              "        text-align: right;\n",
              "    }\n",
              "</style>\n",
              "<table border=\"1\" class=\"dataframe\">\n",
              "  <thead>\n",
              "    <tr style=\"text-align: right;\">\n",
              "      <th></th>\n",
              "      <th>stn_code</th>\n",
              "      <th>sampling_date</th>\n",
              "      <th>state</th>\n",
              "      <th>location</th>\n",
              "      <th>agency</th>\n",
              "      <th>type</th>\n",
              "      <th>so2</th>\n",
              "      <th>no2</th>\n",
              "      <th>rspm</th>\n",
              "      <th>spm</th>\n",
              "      <th>location_monitoring_station</th>\n",
              "      <th>pm2_5</th>\n",
              "      <th>date</th>\n",
              "    </tr>\n",
              "  </thead>\n",
              "  <tbody>\n",
              "    <tr>\n",
              "      <th>0</th>\n",
              "      <td>150</td>\n",
              "      <td>February - M021990</td>\n",
              "      <td>Andhra Pradesh</td>\n",
              "      <td>Hyderabad</td>\n",
              "      <td>NaN</td>\n",
              "      <td>Residential, Rural and other Areas</td>\n",
              "      <td>4.8</td>\n",
              "      <td>17.4</td>\n",
              "      <td>NaN</td>\n",
              "      <td>NaN</td>\n",
              "      <td>NaN</td>\n",
              "      <td>NaN</td>\n",
              "      <td>2/1/1990</td>\n",
              "    </tr>\n",
              "    <tr>\n",
              "      <th>1</th>\n",
              "      <td>151</td>\n",
              "      <td>February - M021990</td>\n",
              "      <td>Andhra Pradesh</td>\n",
              "      <td>Hyderabad</td>\n",
              "      <td>NaN</td>\n",
              "      <td>Industrial Area</td>\n",
              "      <td>3.1</td>\n",
              "      <td>7.0</td>\n",
              "      <td>NaN</td>\n",
              "      <td>NaN</td>\n",
              "      <td>NaN</td>\n",
              "      <td>NaN</td>\n",
              "      <td>2/1/1990</td>\n",
              "    </tr>\n",
              "    <tr>\n",
              "      <th>2</th>\n",
              "      <td>152</td>\n",
              "      <td>February - M021990</td>\n",
              "      <td>Andhra Pradesh</td>\n",
              "      <td>Hyderabad</td>\n",
              "      <td>NaN</td>\n",
              "      <td>Residential, Rural and other Areas</td>\n",
              "      <td>6.2</td>\n",
              "      <td>28.5</td>\n",
              "      <td>NaN</td>\n",
              "      <td>NaN</td>\n",
              "      <td>NaN</td>\n",
              "      <td>NaN</td>\n",
              "      <td>2/1/1990</td>\n",
              "    </tr>\n",
              "    <tr>\n",
              "      <th>3</th>\n",
              "      <td>150</td>\n",
              "      <td>March - M031990</td>\n",
              "      <td>Andhra Pradesh</td>\n",
              "      <td>Hyderabad</td>\n",
              "      <td>NaN</td>\n",
              "      <td>Residential, Rural and other Areas</td>\n",
              "      <td>6.3</td>\n",
              "      <td>14.7</td>\n",
              "      <td>NaN</td>\n",
              "      <td>NaN</td>\n",
              "      <td>NaN</td>\n",
              "      <td>NaN</td>\n",
              "      <td>3/1/1990</td>\n",
              "    </tr>\n",
              "    <tr>\n",
              "      <th>4</th>\n",
              "      <td>151</td>\n",
              "      <td>March - M031990</td>\n",
              "      <td>Andhra Pradesh</td>\n",
              "      <td>Hyderabad</td>\n",
              "      <td>NaN</td>\n",
              "      <td>Industrial Area</td>\n",
              "      <td>4.7</td>\n",
              "      <td>7.5</td>\n",
              "      <td>NaN</td>\n",
              "      <td>NaN</td>\n",
              "      <td>NaN</td>\n",
              "      <td>NaN</td>\n",
              "      <td>3/1/1990</td>\n",
              "    </tr>\n",
              "  </tbody>\n",
              "</table>\n",
              "</div>"
            ],
            "text/plain": [
              "  stn_code       sampling_date  ... pm2_5      date\n",
              "0      150  February - M021990  ...   NaN  2/1/1990\n",
              "1      151  February - M021990  ...   NaN  2/1/1990\n",
              "2      152  February - M021990  ...   NaN  2/1/1990\n",
              "3      150     March - M031990  ...   NaN  3/1/1990\n",
              "4      151     March - M031990  ...   NaN  3/1/1990\n",
              "\n",
              "[5 rows x 13 columns]"
            ]
          },
          "metadata": {
            "tags": []
          }
        },
        {
          "output_type": "display_data",
          "data": {
            "text/html": [
              "<div>\n",
              "<style scoped>\n",
              "    .dataframe tbody tr th:only-of-type {\n",
              "        vertical-align: middle;\n",
              "    }\n",
              "\n",
              "    .dataframe tbody tr th {\n",
              "        vertical-align: top;\n",
              "    }\n",
              "\n",
              "    .dataframe thead th {\n",
              "        text-align: right;\n",
              "    }\n",
              "</style>\n",
              "<table border=\"1\" class=\"dataframe\">\n",
              "  <thead>\n",
              "    <tr style=\"text-align: right;\">\n",
              "      <th></th>\n",
              "      <th>stn_code</th>\n",
              "      <th>sampling_date</th>\n",
              "      <th>state</th>\n",
              "      <th>location</th>\n",
              "      <th>agency</th>\n",
              "      <th>type</th>\n",
              "      <th>so2</th>\n",
              "      <th>no2</th>\n",
              "      <th>rspm</th>\n",
              "      <th>spm</th>\n",
              "      <th>location_monitoring_station</th>\n",
              "      <th>pm2_5</th>\n",
              "      <th>date</th>\n",
              "    </tr>\n",
              "  </thead>\n",
              "  <tbody>\n",
              "    <tr>\n",
              "      <th>435737</th>\n",
              "      <td>SAMP</td>\n",
              "      <td>24-12-15</td>\n",
              "      <td>West Bengal</td>\n",
              "      <td>ULUBERIA</td>\n",
              "      <td>West Bengal State Pollution Control Board</td>\n",
              "      <td>RIRUO</td>\n",
              "      <td>22.0</td>\n",
              "      <td>50.0</td>\n",
              "      <td>143.0</td>\n",
              "      <td>NaN</td>\n",
              "      <td>Inside Rampal Industries,ULUBERIA</td>\n",
              "      <td>NaN</td>\n",
              "      <td>12/24/2015</td>\n",
              "    </tr>\n",
              "    <tr>\n",
              "      <th>435738</th>\n",
              "      <td>SAMP</td>\n",
              "      <td>29-12-15</td>\n",
              "      <td>West Bengal</td>\n",
              "      <td>ULUBERIA</td>\n",
              "      <td>West Bengal State Pollution Control Board</td>\n",
              "      <td>RIRUO</td>\n",
              "      <td>20.0</td>\n",
              "      <td>46.0</td>\n",
              "      <td>171.0</td>\n",
              "      <td>NaN</td>\n",
              "      <td>Inside Rampal Industries,ULUBERIA</td>\n",
              "      <td>NaN</td>\n",
              "      <td>12/29/2015</td>\n",
              "    </tr>\n",
              "    <tr>\n",
              "      <th>435739</th>\n",
              "      <td>NaN</td>\n",
              "      <td>NaN</td>\n",
              "      <td>andaman-and-nicobar-islands</td>\n",
              "      <td>NaN</td>\n",
              "      <td>NaN</td>\n",
              "      <td>NaN</td>\n",
              "      <td>NaN</td>\n",
              "      <td>NaN</td>\n",
              "      <td>NaN</td>\n",
              "      <td>NaN</td>\n",
              "      <td>NaN</td>\n",
              "      <td>NaN</td>\n",
              "      <td>NaN</td>\n",
              "    </tr>\n",
              "    <tr>\n",
              "      <th>435740</th>\n",
              "      <td>NaN</td>\n",
              "      <td>NaN</td>\n",
              "      <td>Lakshadweep</td>\n",
              "      <td>NaN</td>\n",
              "      <td>NaN</td>\n",
              "      <td>NaN</td>\n",
              "      <td>NaN</td>\n",
              "      <td>NaN</td>\n",
              "      <td>NaN</td>\n",
              "      <td>NaN</td>\n",
              "      <td>NaN</td>\n",
              "      <td>NaN</td>\n",
              "      <td>NaN</td>\n",
              "    </tr>\n",
              "    <tr>\n",
              "      <th>435741</th>\n",
              "      <td>NaN</td>\n",
              "      <td>NaN</td>\n",
              "      <td>Tripura</td>\n",
              "      <td>NaN</td>\n",
              "      <td>NaN</td>\n",
              "      <td>NaN</td>\n",
              "      <td>NaN</td>\n",
              "      <td>NaN</td>\n",
              "      <td>NaN</td>\n",
              "      <td>NaN</td>\n",
              "      <td>NaN</td>\n",
              "      <td>NaN</td>\n",
              "      <td>NaN</td>\n",
              "    </tr>\n",
              "  </tbody>\n",
              "</table>\n",
              "</div>"
            ],
            "text/plain": [
              "       stn_code sampling_date  ... pm2_5        date\n",
              "435737     SAMP      24-12-15  ...   NaN  12/24/2015\n",
              "435738     SAMP      29-12-15  ...   NaN  12/29/2015\n",
              "435739      NaN           NaN  ...   NaN         NaN\n",
              "435740      NaN           NaN  ...   NaN         NaN\n",
              "435741      NaN           NaN  ...   NaN         NaN\n",
              "\n",
              "[5 rows x 13 columns]"
            ]
          },
          "metadata": {
            "tags": []
          }
        }
      ]
    },
    {
      "cell_type": "markdown",
      "metadata": {
        "id": "vsfXzRsE_g98",
        "colab_type": "text"
      },
      "source": [
        "## Cleansing the dataset\n",
        "### Dropping of less valued columns:\n",
        "1. stn_code, agency, sampling_date, location_monitoring_agency do not add much value to the dataset in terms of information. Therefore, we can drop those columns.\n",
        "\n",
        "2. Dropping rows where no date is available."
      ]
    },
    {
      "cell_type": "code",
      "metadata": {
        "id": "jJTdH_pu_g99",
        "colab_type": "code",
        "outputId": "8c60dd65-e7b9-4177-aebe-12b6eea158e2",
        "colab": {
          "base_uri": "https://localhost:8080/",
          "height": 187
        }
      },
      "source": [
        "# Cleaning up the data\n",
        "\n",
        "#dropping columns that aren't required\n",
        "\n",
        "# ... your code here\n",
        "data.drop(columns=['stn_code', 'agency', 'sampling_date', 'location_monitoring_station'], inplace=True)\n",
        "\n",
        "# dropping rows where no date is available\n",
        "\n",
        "# ... your code here\n",
        "data.dropna(subset=['date'], inplace=True)\n",
        "display(data.isnull().sum())"
      ],
      "execution_count": 87,
      "outputs": [
        {
          "output_type": "display_data",
          "data": {
            "text/plain": [
              "state            0\n",
              "location         0\n",
              "type          5390\n",
              "so2          34643\n",
              "no2          16230\n",
              "rspm         40219\n",
              "spm         237380\n",
              "pm2_5       426421\n",
              "date             0\n",
              "dtype: int64"
            ]
          },
          "metadata": {
            "tags": []
          }
        }
      ]
    },
    {
      "cell_type": "code",
      "metadata": {
        "id": "xqEPnpCt_g-B",
        "colab_type": "code",
        "outputId": "d799dff0-f51b-4ac9-b38b-134ad2bf87ee",
        "colab": {
          "base_uri": "https://localhost:8080/",
          "height": 68
        }
      },
      "source": [
        "# displaying final columns (data.columns)\n",
        "\n",
        "# ... your code here\n",
        "data.columns"
      ],
      "execution_count": 88,
      "outputs": [
        {
          "output_type": "execute_result",
          "data": {
            "text/plain": [
              "Index(['state', 'location', 'type', 'so2', 'no2', 'rspm', 'spm', 'pm2_5',\n",
              "       'date'],\n",
              "      dtype='object')"
            ]
          },
          "metadata": {
            "tags": []
          },
          "execution_count": 88
        }
      ]
    },
    {
      "cell_type": "markdown",
      "metadata": {
        "id": "7jjZTG6h_g-F",
        "colab_type": "text"
      },
      "source": [
        "### Changing the types to uniform format:\n",
        "\n",
        "Notice that the ‘type’ column has values such as ‘Industrial Area’ and ‘Industrial Areas’ — both actually mean the same, so let’s remove such type of stuff and make it uniform. Replace the 'type' values with standard codes as follows:\n",
        "\n",
        "types = {\n",
        "    \"Residential\": \"R\",\n",
        "    \"Residential and others\": \"RO\",\n",
        "    \"Residential, Rural and other Areas\": \"RRO\",\n",
        "    \"Industrial Area\": \"I\",\n",
        "    \"Industrial Areas\": \"I\",\n",
        "    \"Industrial\": \"I\",\n",
        "    \"Sensitive Area\": \"S\",\n",
        "    \"Sensitive Areas\": \"S\",\n",
        "    \"Sensitive\": \"S\",\n",
        "    np.nan: \"RRO\"\n",
        "}\n",
        "\n",
        "data.type = data.type.replace(types)"
      ]
    },
    {
      "cell_type": "code",
      "metadata": {
        "id": "OrohKJlx_g-G",
        "colab_type": "code",
        "colab": {}
      },
      "source": [
        "# ... Your code here\n",
        "types = { \"Residential\": \"R\", \"Residential and others\": \"RO\", \"Residential, Rural and other Areas\": \"RRO\", \"Industrial Area\": \"I\", \"Industrial Areas\": \"I\", \"Industrial\": \"I\", \"Sensitive Area\": \"S\", \"Sensitive Areas\": \"S\", \"Sensitive\": \"S\", np.nan: \"RRO\" }\n",
        "data.type = data.type.replace(types)"
      ],
      "execution_count": 0,
      "outputs": []
    },
    {
      "cell_type": "code",
      "metadata": {
        "id": "wrNl_zxj_g-K",
        "colab_type": "code",
        "outputId": "8c54f3a6-14fc-45b5-e5df-5311fbc7a2fd",
        "colab": {
          "base_uri": "https://localhost:8080/",
          "height": 359
        }
      },
      "source": [
        "# Display top 10 records after codification of 'types'\n",
        "# ... Your code here\n",
        "data.head(10)"
      ],
      "execution_count": 90,
      "outputs": [
        {
          "output_type": "execute_result",
          "data": {
            "text/html": [
              "<div>\n",
              "<style scoped>\n",
              "    .dataframe tbody tr th:only-of-type {\n",
              "        vertical-align: middle;\n",
              "    }\n",
              "\n",
              "    .dataframe tbody tr th {\n",
              "        vertical-align: top;\n",
              "    }\n",
              "\n",
              "    .dataframe thead th {\n",
              "        text-align: right;\n",
              "    }\n",
              "</style>\n",
              "<table border=\"1\" class=\"dataframe\">\n",
              "  <thead>\n",
              "    <tr style=\"text-align: right;\">\n",
              "      <th></th>\n",
              "      <th>state</th>\n",
              "      <th>location</th>\n",
              "      <th>type</th>\n",
              "      <th>so2</th>\n",
              "      <th>no2</th>\n",
              "      <th>rspm</th>\n",
              "      <th>spm</th>\n",
              "      <th>pm2_5</th>\n",
              "      <th>date</th>\n",
              "    </tr>\n",
              "  </thead>\n",
              "  <tbody>\n",
              "    <tr>\n",
              "      <th>0</th>\n",
              "      <td>Andhra Pradesh</td>\n",
              "      <td>Hyderabad</td>\n",
              "      <td>RRO</td>\n",
              "      <td>4.8</td>\n",
              "      <td>17.4</td>\n",
              "      <td>NaN</td>\n",
              "      <td>NaN</td>\n",
              "      <td>NaN</td>\n",
              "      <td>2/1/1990</td>\n",
              "    </tr>\n",
              "    <tr>\n",
              "      <th>1</th>\n",
              "      <td>Andhra Pradesh</td>\n",
              "      <td>Hyderabad</td>\n",
              "      <td>I</td>\n",
              "      <td>3.1</td>\n",
              "      <td>7.0</td>\n",
              "      <td>NaN</td>\n",
              "      <td>NaN</td>\n",
              "      <td>NaN</td>\n",
              "      <td>2/1/1990</td>\n",
              "    </tr>\n",
              "    <tr>\n",
              "      <th>2</th>\n",
              "      <td>Andhra Pradesh</td>\n",
              "      <td>Hyderabad</td>\n",
              "      <td>RRO</td>\n",
              "      <td>6.2</td>\n",
              "      <td>28.5</td>\n",
              "      <td>NaN</td>\n",
              "      <td>NaN</td>\n",
              "      <td>NaN</td>\n",
              "      <td>2/1/1990</td>\n",
              "    </tr>\n",
              "    <tr>\n",
              "      <th>3</th>\n",
              "      <td>Andhra Pradesh</td>\n",
              "      <td>Hyderabad</td>\n",
              "      <td>RRO</td>\n",
              "      <td>6.3</td>\n",
              "      <td>14.7</td>\n",
              "      <td>NaN</td>\n",
              "      <td>NaN</td>\n",
              "      <td>NaN</td>\n",
              "      <td>3/1/1990</td>\n",
              "    </tr>\n",
              "    <tr>\n",
              "      <th>4</th>\n",
              "      <td>Andhra Pradesh</td>\n",
              "      <td>Hyderabad</td>\n",
              "      <td>I</td>\n",
              "      <td>4.7</td>\n",
              "      <td>7.5</td>\n",
              "      <td>NaN</td>\n",
              "      <td>NaN</td>\n",
              "      <td>NaN</td>\n",
              "      <td>3/1/1990</td>\n",
              "    </tr>\n",
              "    <tr>\n",
              "      <th>5</th>\n",
              "      <td>Andhra Pradesh</td>\n",
              "      <td>Hyderabad</td>\n",
              "      <td>RRO</td>\n",
              "      <td>6.4</td>\n",
              "      <td>25.7</td>\n",
              "      <td>NaN</td>\n",
              "      <td>NaN</td>\n",
              "      <td>NaN</td>\n",
              "      <td>3/1/1990</td>\n",
              "    </tr>\n",
              "    <tr>\n",
              "      <th>6</th>\n",
              "      <td>Andhra Pradesh</td>\n",
              "      <td>Hyderabad</td>\n",
              "      <td>RRO</td>\n",
              "      <td>5.4</td>\n",
              "      <td>17.1</td>\n",
              "      <td>NaN</td>\n",
              "      <td>NaN</td>\n",
              "      <td>NaN</td>\n",
              "      <td>4/1/1990</td>\n",
              "    </tr>\n",
              "    <tr>\n",
              "      <th>7</th>\n",
              "      <td>Andhra Pradesh</td>\n",
              "      <td>Hyderabad</td>\n",
              "      <td>I</td>\n",
              "      <td>4.7</td>\n",
              "      <td>8.7</td>\n",
              "      <td>NaN</td>\n",
              "      <td>NaN</td>\n",
              "      <td>NaN</td>\n",
              "      <td>4/1/1990</td>\n",
              "    </tr>\n",
              "    <tr>\n",
              "      <th>8</th>\n",
              "      <td>Andhra Pradesh</td>\n",
              "      <td>Hyderabad</td>\n",
              "      <td>RRO</td>\n",
              "      <td>4.2</td>\n",
              "      <td>23.0</td>\n",
              "      <td>NaN</td>\n",
              "      <td>NaN</td>\n",
              "      <td>NaN</td>\n",
              "      <td>4/1/1990</td>\n",
              "    </tr>\n",
              "    <tr>\n",
              "      <th>9</th>\n",
              "      <td>Andhra Pradesh</td>\n",
              "      <td>Hyderabad</td>\n",
              "      <td>I</td>\n",
              "      <td>4.0</td>\n",
              "      <td>8.9</td>\n",
              "      <td>NaN</td>\n",
              "      <td>NaN</td>\n",
              "      <td>NaN</td>\n",
              "      <td>5/1/1990</td>\n",
              "    </tr>\n",
              "  </tbody>\n",
              "</table>\n",
              "</div>"
            ],
            "text/plain": [
              "            state   location type  so2   no2  rspm  spm  pm2_5      date\n",
              "0  Andhra Pradesh  Hyderabad  RRO  4.8  17.4   NaN  NaN    NaN  2/1/1990\n",
              "1  Andhra Pradesh  Hyderabad    I  3.1   7.0   NaN  NaN    NaN  2/1/1990\n",
              "2  Andhra Pradesh  Hyderabad  RRO  6.2  28.5   NaN  NaN    NaN  2/1/1990\n",
              "3  Andhra Pradesh  Hyderabad  RRO  6.3  14.7   NaN  NaN    NaN  3/1/1990\n",
              "4  Andhra Pradesh  Hyderabad    I  4.7   7.5   NaN  NaN    NaN  3/1/1990\n",
              "5  Andhra Pradesh  Hyderabad  RRO  6.4  25.7   NaN  NaN    NaN  3/1/1990\n",
              "6  Andhra Pradesh  Hyderabad  RRO  5.4  17.1   NaN  NaN    NaN  4/1/1990\n",
              "7  Andhra Pradesh  Hyderabad    I  4.7   8.7   NaN  NaN    NaN  4/1/1990\n",
              "8  Andhra Pradesh  Hyderabad  RRO  4.2  23.0   NaN  NaN    NaN  4/1/1990\n",
              "9  Andhra Pradesh  Hyderabad    I  4.0   8.9   NaN  NaN    NaN  5/1/1990"
            ]
          },
          "metadata": {
            "tags": []
          },
          "execution_count": 90
        }
      ]
    },
    {
      "cell_type": "markdown",
      "metadata": {
        "id": "9jhBWih0_g-N",
        "colab_type": "text"
      },
      "source": [
        "### Creating a year column\n",
        "To view the trend over a period of time, we need year values for each row and also when you see in most of the values in date column only has ‘year’ value. So, let’s create a new column holding year values. Convert the column to 'datetime' type and extract the year to populate the new column. Display Top 5 records after the conversion."
      ]
    },
    {
      "cell_type": "code",
      "metadata": {
        "id": "_a1XZQ-9_g-O",
        "colab_type": "code",
        "colab": {
          "base_uri": "https://localhost:8080/",
          "height": 204
        },
        "outputId": "72b49df0-0ec8-41c5-a4f9-ac076eda66b0"
      },
      "source": [
        "# ... Your code here\n",
        "data['date'] = pd.to_datetime(data['date'])\n",
        "data['year'] = data['date'].dt.year\n",
        "data.head(5)"
      ],
      "execution_count": 91,
      "outputs": [
        {
          "output_type": "execute_result",
          "data": {
            "text/html": [
              "<div>\n",
              "<style scoped>\n",
              "    .dataframe tbody tr th:only-of-type {\n",
              "        vertical-align: middle;\n",
              "    }\n",
              "\n",
              "    .dataframe tbody tr th {\n",
              "        vertical-align: top;\n",
              "    }\n",
              "\n",
              "    .dataframe thead th {\n",
              "        text-align: right;\n",
              "    }\n",
              "</style>\n",
              "<table border=\"1\" class=\"dataframe\">\n",
              "  <thead>\n",
              "    <tr style=\"text-align: right;\">\n",
              "      <th></th>\n",
              "      <th>state</th>\n",
              "      <th>location</th>\n",
              "      <th>type</th>\n",
              "      <th>so2</th>\n",
              "      <th>no2</th>\n",
              "      <th>rspm</th>\n",
              "      <th>spm</th>\n",
              "      <th>pm2_5</th>\n",
              "      <th>date</th>\n",
              "      <th>year</th>\n",
              "    </tr>\n",
              "  </thead>\n",
              "  <tbody>\n",
              "    <tr>\n",
              "      <th>0</th>\n",
              "      <td>Andhra Pradesh</td>\n",
              "      <td>Hyderabad</td>\n",
              "      <td>RRO</td>\n",
              "      <td>4.8</td>\n",
              "      <td>17.4</td>\n",
              "      <td>NaN</td>\n",
              "      <td>NaN</td>\n",
              "      <td>NaN</td>\n",
              "      <td>1990-02-01</td>\n",
              "      <td>1990</td>\n",
              "    </tr>\n",
              "    <tr>\n",
              "      <th>1</th>\n",
              "      <td>Andhra Pradesh</td>\n",
              "      <td>Hyderabad</td>\n",
              "      <td>I</td>\n",
              "      <td>3.1</td>\n",
              "      <td>7.0</td>\n",
              "      <td>NaN</td>\n",
              "      <td>NaN</td>\n",
              "      <td>NaN</td>\n",
              "      <td>1990-02-01</td>\n",
              "      <td>1990</td>\n",
              "    </tr>\n",
              "    <tr>\n",
              "      <th>2</th>\n",
              "      <td>Andhra Pradesh</td>\n",
              "      <td>Hyderabad</td>\n",
              "      <td>RRO</td>\n",
              "      <td>6.2</td>\n",
              "      <td>28.5</td>\n",
              "      <td>NaN</td>\n",
              "      <td>NaN</td>\n",
              "      <td>NaN</td>\n",
              "      <td>1990-02-01</td>\n",
              "      <td>1990</td>\n",
              "    </tr>\n",
              "    <tr>\n",
              "      <th>3</th>\n",
              "      <td>Andhra Pradesh</td>\n",
              "      <td>Hyderabad</td>\n",
              "      <td>RRO</td>\n",
              "      <td>6.3</td>\n",
              "      <td>14.7</td>\n",
              "      <td>NaN</td>\n",
              "      <td>NaN</td>\n",
              "      <td>NaN</td>\n",
              "      <td>1990-03-01</td>\n",
              "      <td>1990</td>\n",
              "    </tr>\n",
              "    <tr>\n",
              "      <th>4</th>\n",
              "      <td>Andhra Pradesh</td>\n",
              "      <td>Hyderabad</td>\n",
              "      <td>I</td>\n",
              "      <td>4.7</td>\n",
              "      <td>7.5</td>\n",
              "      <td>NaN</td>\n",
              "      <td>NaN</td>\n",
              "      <td>NaN</td>\n",
              "      <td>1990-03-01</td>\n",
              "      <td>1990</td>\n",
              "    </tr>\n",
              "  </tbody>\n",
              "</table>\n",
              "</div>"
            ],
            "text/plain": [
              "            state   location type  so2   no2  rspm  spm  pm2_5       date  year\n",
              "0  Andhra Pradesh  Hyderabad  RRO  4.8  17.4   NaN  NaN    NaN 1990-02-01  1990\n",
              "1  Andhra Pradesh  Hyderabad    I  3.1   7.0   NaN  NaN    NaN 1990-02-01  1990\n",
              "2  Andhra Pradesh  Hyderabad  RRO  6.2  28.5   NaN  NaN    NaN 1990-02-01  1990\n",
              "3  Andhra Pradesh  Hyderabad  RRO  6.3  14.7   NaN  NaN    NaN 1990-03-01  1990\n",
              "4  Andhra Pradesh  Hyderabad    I  4.7   7.5   NaN  NaN    NaN 1990-03-01  1990"
            ]
          },
          "metadata": {
            "tags": []
          },
          "execution_count": 91
        }
      ]
    },
    {
      "cell_type": "markdown",
      "metadata": {
        "id": "7uKDVbmt_g-T",
        "colab_type": "text"
      },
      "source": [
        "### Handling Missing Values\n",
        "\n",
        "The column such as SO2, NO2, rspm, spm, pm2_5 are the ones which contribute much to our analysis. So, we need to remove null from those columns to avoid inaccuracy in the prediction.\n",
        "We use the Imputer from sklearn.preprocessing to fill the missing values in every column with the mean."
      ]
    },
    {
      "cell_type": "code",
      "metadata": {
        "id": "oqJmnti3_g-U",
        "colab_type": "code",
        "colab": {
          "base_uri": "https://localhost:8080/",
          "height": 204
        },
        "outputId": "1ccbc547-7745-402b-fcf8-63128da215cb"
      },
      "source": [
        "# define columns of importance, which shall be used reguarly (COLS = ....)\n",
        "# invoke SimpleImputer to fill missing values using 'mean' as the replacement strategy\n",
        "# Display data.info after the transformation\n",
        "# Display that there are no more missing values in the dataset\n",
        "\n",
        "# ... your code here\n",
        "COLS = ['so2','no2','rspm','spm','pm2_5']\n",
        "imp_mean = SimpleImputer(missing_values=np.nan, strategy='mean')\n",
        "imp_mean.fit(data[COLS])\n",
        "data[COLS] = imp_mean.transform(data[COLS])\n",
        "data.head()"
      ],
      "execution_count": 92,
      "outputs": [
        {
          "output_type": "execute_result",
          "data": {
            "text/html": [
              "<div>\n",
              "<style scoped>\n",
              "    .dataframe tbody tr th:only-of-type {\n",
              "        vertical-align: middle;\n",
              "    }\n",
              "\n",
              "    .dataframe tbody tr th {\n",
              "        vertical-align: top;\n",
              "    }\n",
              "\n",
              "    .dataframe thead th {\n",
              "        text-align: right;\n",
              "    }\n",
              "</style>\n",
              "<table border=\"1\" class=\"dataframe\">\n",
              "  <thead>\n",
              "    <tr style=\"text-align: right;\">\n",
              "      <th></th>\n",
              "      <th>state</th>\n",
              "      <th>location</th>\n",
              "      <th>type</th>\n",
              "      <th>so2</th>\n",
              "      <th>no2</th>\n",
              "      <th>rspm</th>\n",
              "      <th>spm</th>\n",
              "      <th>pm2_5</th>\n",
              "      <th>date</th>\n",
              "      <th>year</th>\n",
              "    </tr>\n",
              "  </thead>\n",
              "  <tbody>\n",
              "    <tr>\n",
              "      <th>0</th>\n",
              "      <td>Andhra Pradesh</td>\n",
              "      <td>Hyderabad</td>\n",
              "      <td>RRO</td>\n",
              "      <td>4.8</td>\n",
              "      <td>17.4</td>\n",
              "      <td>108.833091</td>\n",
              "      <td>220.78348</td>\n",
              "      <td>40.791467</td>\n",
              "      <td>1990-02-01</td>\n",
              "      <td>1990</td>\n",
              "    </tr>\n",
              "    <tr>\n",
              "      <th>1</th>\n",
              "      <td>Andhra Pradesh</td>\n",
              "      <td>Hyderabad</td>\n",
              "      <td>I</td>\n",
              "      <td>3.1</td>\n",
              "      <td>7.0</td>\n",
              "      <td>108.833091</td>\n",
              "      <td>220.78348</td>\n",
              "      <td>40.791467</td>\n",
              "      <td>1990-02-01</td>\n",
              "      <td>1990</td>\n",
              "    </tr>\n",
              "    <tr>\n",
              "      <th>2</th>\n",
              "      <td>Andhra Pradesh</td>\n",
              "      <td>Hyderabad</td>\n",
              "      <td>RRO</td>\n",
              "      <td>6.2</td>\n",
              "      <td>28.5</td>\n",
              "      <td>108.833091</td>\n",
              "      <td>220.78348</td>\n",
              "      <td>40.791467</td>\n",
              "      <td>1990-02-01</td>\n",
              "      <td>1990</td>\n",
              "    </tr>\n",
              "    <tr>\n",
              "      <th>3</th>\n",
              "      <td>Andhra Pradesh</td>\n",
              "      <td>Hyderabad</td>\n",
              "      <td>RRO</td>\n",
              "      <td>6.3</td>\n",
              "      <td>14.7</td>\n",
              "      <td>108.833091</td>\n",
              "      <td>220.78348</td>\n",
              "      <td>40.791467</td>\n",
              "      <td>1990-03-01</td>\n",
              "      <td>1990</td>\n",
              "    </tr>\n",
              "    <tr>\n",
              "      <th>4</th>\n",
              "      <td>Andhra Pradesh</td>\n",
              "      <td>Hyderabad</td>\n",
              "      <td>I</td>\n",
              "      <td>4.7</td>\n",
              "      <td>7.5</td>\n",
              "      <td>108.833091</td>\n",
              "      <td>220.78348</td>\n",
              "      <td>40.791467</td>\n",
              "      <td>1990-03-01</td>\n",
              "      <td>1990</td>\n",
              "    </tr>\n",
              "  </tbody>\n",
              "</table>\n",
              "</div>"
            ],
            "text/plain": [
              "            state   location type  so2  ...        spm      pm2_5       date  year\n",
              "0  Andhra Pradesh  Hyderabad  RRO  4.8  ...  220.78348  40.791467 1990-02-01  1990\n",
              "1  Andhra Pradesh  Hyderabad    I  3.1  ...  220.78348  40.791467 1990-02-01  1990\n",
              "2  Andhra Pradesh  Hyderabad  RRO  6.2  ...  220.78348  40.791467 1990-02-01  1990\n",
              "3  Andhra Pradesh  Hyderabad  RRO  6.3  ...  220.78348  40.791467 1990-03-01  1990\n",
              "4  Andhra Pradesh  Hyderabad    I  4.7  ...  220.78348  40.791467 1990-03-01  1990\n",
              "\n",
              "[5 rows x 10 columns]"
            ]
          },
          "metadata": {
            "tags": []
          },
          "execution_count": 92
        }
      ]
    },
    {
      "cell_type": "markdown",
      "metadata": {
        "id": "2TcF5GwV_g-Z",
        "colab_type": "text"
      },
      "source": [
        "## Statewise Grouping of so2, no2, rspm, spm values\n",
        "\n",
        "Calculate median values of so2, no2, rspm, spm for each state and display in (a) as table (b) bar chart, with values sorted in ascending order. Separate section for each of the component. Use matplotlib()."
      ]
    },
    {
      "cell_type": "markdown",
      "metadata": {
        "id": "V_RCNkym_g-a",
        "colab_type": "text"
      },
      "source": [
        "### so2 status"
      ]
    },
    {
      "cell_type": "code",
      "metadata": {
        "id": "wPHrWnpY_g-c",
        "colab_type": "code",
        "colab": {
          "base_uri": "https://localhost:8080/",
          "height": 1000
        },
        "outputId": "9367f44e-d22d-4add-e385-4b3e2903eb2e"
      },
      "source": [
        "# ... Your code here\n",
        "so2_status = data.groupby('state')['so2'].median().sort_values(ascending=True)\n",
        "display(so2_status)\n",
        "plt.bar(so2_status.index, so2_status)\n",
        "plt.xticks(rotation=90)"
      ],
      "execution_count": 93,
      "outputs": [
        {
          "output_type": "display_data",
          "data": {
            "text/plain": [
              "state\n",
              "Nagaland                 2.000000\n",
              "Mizoram                  2.000000\n",
              "Meghalaya                2.000000\n",
              "Arunachal Pradesh        2.500000\n",
              "Himachal Pradesh         3.000000\n",
              "Kerala                   4.200000\n",
              "Telangana                5.000000\n",
              "Odisha                   5.000000\n",
              "Jammu & Kashmir          5.000000\n",
              "Andhra Pradesh           5.000000\n",
              "Goa                      6.000000\n",
              "Rajasthan                6.300000\n",
              "Delhi                    6.300000\n",
              "Assam                    6.500000\n",
              "Puducherry               7.266667\n",
              "Daman & Diu              7.600000\n",
              "Chandigarh               7.950000\n",
              "West Bengal              8.000000\n",
              "Dadra & Nagar Haveli     8.400000\n",
              "Karnataka               10.000000\n",
              "Uttar Pradesh           10.000000\n",
              "Tamil Nadu              10.000000\n",
              "Punjab                  10.300000\n",
              "Manipur                 10.829428\n",
              "Bihar                   10.829428\n",
              "Haryana                 10.829428\n",
              "Madhya Pradesh          10.829428\n",
              "Chhattisgarh            12.500000\n",
              "Maharashtra             13.000000\n",
              "Gujarat                 14.200000\n",
              "Jharkhand               18.700000\n",
              "Sikkim                  19.800000\n",
              "Uttarakhand             21.000000\n",
              "Uttaranchal             25.100000\n",
              "Name: so2, dtype: float64"
            ]
          },
          "metadata": {
            "tags": []
          }
        },
        {
          "output_type": "execute_result",
          "data": {
            "text/plain": [
              "([0,\n",
              "  1,\n",
              "  2,\n",
              "  3,\n",
              "  4,\n",
              "  5,\n",
              "  6,\n",
              "  7,\n",
              "  8,\n",
              "  9,\n",
              "  10,\n",
              "  11,\n",
              "  12,\n",
              "  13,\n",
              "  14,\n",
              "  15,\n",
              "  16,\n",
              "  17,\n",
              "  18,\n",
              "  19,\n",
              "  20,\n",
              "  21,\n",
              "  22,\n",
              "  23,\n",
              "  24,\n",
              "  25,\n",
              "  26,\n",
              "  27,\n",
              "  28,\n",
              "  29,\n",
              "  30,\n",
              "  31,\n",
              "  32,\n",
              "  33],\n",
              " <a list of 34 Text xticklabel objects>)"
            ]
          },
          "metadata": {
            "tags": []
          },
          "execution_count": 93
        },
        {
          "output_type": "display_data",
          "data": {
            "image/png": "[encoded data removed]",
            "text/plain": [
              "<Figure size 432x288 with 1 Axes>"
            ]
          },
          "metadata": {
            "tags": []
          }
        }
      ]
    },
    {
      "cell_type": "markdown",
      "metadata": {
        "id": "i4gpbdrO_g-f",
        "colab_type": "text"
      },
      "source": [
        "### no2 status"
      ]
    },
    {
      "cell_type": "code",
      "metadata": {
        "id": "ft-nfxb7_g-g",
        "colab_type": "code",
        "colab": {
          "base_uri": "https://localhost:8080/",
          "height": 1000
        },
        "outputId": "6c7dfed6-a4ef-44ae-c3f7-c971055f3489"
      },
      "source": [
        "# ... Your code here\n",
        "no2_status = data.groupby('state')['no2'].median().sort_values(ascending=True)\n",
        "display(no2_status)\n",
        "plt.bar(no2_status.index, no2_status)\n",
        "plt.xticks(rotation=90)"
      ],
      "execution_count": 94,
      "outputs": [
        {
          "output_type": "display_data",
          "data": {
            "text/plain": [
              "state\n",
              "Arunachal Pradesh        5.000000\n",
              "Mizoram                  5.000000\n",
              "Nagaland                 7.000000\n",
              "Meghalaya               10.000000\n",
              "Goa                     11.600000\n",
              "Puducherry              13.000000\n",
              "Jammu & Kashmir         13.000000\n",
              "Himachal Pradesh        13.900000\n",
              "Kerala                  14.000000\n",
              "Assam                   14.000000\n",
              "Odisha                  16.000000\n",
              "Daman & Diu             17.600000\n",
              "Chandigarh              18.000000\n",
              "Dadra & Nagar Haveli    18.000000\n",
              "Madhya Pradesh          19.200000\n",
              "Manipur                 19.800000\n",
              "Andhra Pradesh          20.000000\n",
              "Tamil Nadu              21.000000\n",
              "Karnataka               21.200000\n",
              "Chhattisgarh            21.500000\n",
              "Telangana               22.000000\n",
              "Haryana                 22.750000\n",
              "Gujarat                 23.000000\n",
              "Uttarakhand             25.809659\n",
              "Rajasthan               26.000000\n",
              "Sikkim                  26.800000\n",
              "Uttar Pradesh           27.000000\n",
              "Uttaranchal             27.500000\n",
              "Punjab                  28.300000\n",
              "Maharashtra             29.000000\n",
              "Bihar                   32.000000\n",
              "Jharkhand               42.000000\n",
              "Delhi                   45.000000\n",
              "West Bengal             53.700000\n",
              "Name: no2, dtype: float64"
            ]
          },
          "metadata": {
            "tags": []
          }
        },
        {
          "output_type": "execute_result",
          "data": {
            "text/plain": [
              "([0,\n",
              "  1,\n",
              "  2,\n",
              "  3,\n",
              "  4,\n",
              "  5,\n",
              "  6,\n",
              "  7,\n",
              "  8,\n",
              "  9,\n",
              "  10,\n",
              "  11,\n",
              "  12,\n",
              "  13,\n",
              "  14,\n",
              "  15,\n",
              "  16,\n",
              "  17,\n",
              "  18,\n",
              "  19,\n",
              "  20,\n",
              "  21,\n",
              "  22,\n",
              "  23,\n",
              "  24,\n",
              "  25,\n",
              "  26,\n",
              "  27,\n",
              "  28,\n",
              "  29,\n",
              "  30,\n",
              "  31,\n",
              "  32,\n",
              "  33],\n",
              " <a list of 34 Text xticklabel objects>)"
            ]
          },
          "metadata": {
            "tags": []
          },
          "execution_count": 94
        },
        {
          "output_type": "display_data",
          "data": {
            "image/png": "[encoded data removed]",
            "text/plain": [
              "<Figure size 432x288 with 1 Axes>"
            ]
          },
          "metadata": {
            "tags": []
          }
        }
      ]
    },
    {
      "cell_type": "markdown",
      "metadata": {
        "id": "pnPjWNdL_g-k",
        "colab_type": "text"
      },
      "source": [
        "### rspm status"
      ]
    },
    {
      "cell_type": "code",
      "metadata": {
        "id": "XDD03PDO_g-l",
        "colab_type": "code",
        "colab": {
          "base_uri": "https://localhost:8080/",
          "height": 1000
        },
        "outputId": "61bba314-a1e7-452d-fac0-e1d249cd6b77"
      },
      "source": [
        "# ... Your code here\n",
        "rspm_status = data.groupby('state')['rspm'].median().sort_values(ascending=True)\n",
        "display(rspm_status)\n",
        "plt.bar(rspm_status.index, rspm_status)\n",
        "plt.xticks(rotation=90)"
      ],
      "execution_count": 95,
      "outputs": [
        {
          "output_type": "display_data",
          "data": {
            "text/plain": [
              "state\n",
              "Sikkim                   32.000000\n",
              "Mizoram                  40.000000\n",
              "Puducherry               46.000000\n",
              "Kerala                   49.000000\n",
              "Goa                      56.000000\n",
              "Meghalaya                57.000000\n",
              "Tamil Nadu               59.000000\n",
              "Manipur                  61.000000\n",
              "Karnataka                63.000000\n",
              "Arunachal Pradesh        74.500000\n",
              "Andhra Pradesh           76.000000\n",
              "Assam                    77.000000\n",
              "Nagaland                 78.000000\n",
              "Telangana                80.000000\n",
              "Odisha                   81.000000\n",
              "Himachal Pradesh         90.000000\n",
              "Chandigarh               90.000000\n",
              "Dadra & Nagar Haveli     91.000000\n",
              "Gujarat                  95.000000\n",
              "West Bengal              96.000000\n",
              "Maharashtra              96.000000\n",
              "Chhattisgarh            108.833091\n",
              "Madhya Pradesh          108.833091\n",
              "Bihar                   108.833091\n",
              "Daman & Diu             108.833091\n",
              "Uttaranchal             112.000000\n",
              "Rajasthan               112.000000\n",
              "Jammu & Kashmir         116.000000\n",
              "Uttarakhand             135.000000\n",
              "Delhi                   136.000000\n",
              "Haryana                 137.500000\n",
              "Punjab                  147.000000\n",
              "Uttar Pradesh           160.000000\n",
              "Jharkhand               165.000000\n",
              "Name: rspm, dtype: float64"
            ]
          },
          "metadata": {
            "tags": []
          }
        },
        {
          "output_type": "execute_result",
          "data": {
            "text/plain": [
              "([0,\n",
              "  1,\n",
              "  2,\n",
              "  3,\n",
              "  4,\n",
              "  5,\n",
              "  6,\n",
              "  7,\n",
              "  8,\n",
              "  9,\n",
              "  10,\n",
              "  11,\n",
              "  12,\n",
              "  13,\n",
              "  14,\n",
              "  15,\n",
              "  16,\n",
              "  17,\n",
              "  18,\n",
              "  19,\n",
              "  20,\n",
              "  21,\n",
              "  22,\n",
              "  23,\n",
              "  24,\n",
              "  25,\n",
              "  26,\n",
              "  27,\n",
              "  28,\n",
              "  29,\n",
              "  30,\n",
              "  31,\n",
              "  32,\n",
              "  33],\n",
              " <a list of 34 Text xticklabel objects>)"
            ]
          },
          "metadata": {
            "tags": []
          },
          "execution_count": 95
        },
        {
          "output_type": "display_data",
          "data": {
            "image/png": "[encoded data removed]",
            "text/plain": [
              "<Figure size 432x288 with 1 Axes>"
            ]
          },
          "metadata": {
            "tags": []
          }
        }
      ]
    },
    {
      "cell_type": "markdown",
      "metadata": {
        "id": "Megi6Meo_g-p",
        "colab_type": "text"
      },
      "source": [
        "### spm status"
      ]
    },
    {
      "cell_type": "code",
      "metadata": {
        "id": "75tCSg7D_g-q",
        "colab_type": "code",
        "colab": {
          "base_uri": "https://localhost:8080/",
          "height": 1000
        },
        "outputId": "8829611e-9784-47d5-be1f-8c084e8f4871"
      },
      "source": [
        "# ... Your code here\n",
        "spm_status = data.groupby('state')['spm'].median().sort_values(ascending=True)\n",
        "display(spm_status)\n",
        "plt.bar(spm_status.index, spm_status)\n",
        "plt.xticks(rotation=90)"
      ],
      "execution_count": 96,
      "outputs": [
        {
          "output_type": "display_data",
          "data": {
            "text/plain": [
              "state\n",
              "Sikkim                   75.00000\n",
              "Manipur                 120.50000\n",
              "Puducherry              191.00000\n",
              "Goa                     199.00000\n",
              "Daman & Diu             200.50000\n",
              "Andhra Pradesh          220.78348\n",
              "Meghalaya               220.78348\n",
              "Mizoram                 220.78348\n",
              "Nagaland                220.78348\n",
              "Odisha                  220.78348\n",
              "Punjab                  220.78348\n",
              "Tamil Nadu              220.78348\n",
              "Telangana               220.78348\n",
              "Uttar Pradesh           220.78348\n",
              "Uttarakhand             220.78348\n",
              "Rajasthan               220.78348\n",
              "Maharashtra             220.78348\n",
              "Kerala                  220.78348\n",
              "Karnataka               220.78348\n",
              "Jharkhand               220.78348\n",
              "Jammu & Kashmir         220.78348\n",
              "Himachal Pradesh        220.78348\n",
              "Haryana                 220.78348\n",
              "Gujarat                 220.78348\n",
              "Dadra & Nagar Haveli    220.78348\n",
              "Chhattisgarh            220.78348\n",
              "Chandigarh              220.78348\n",
              "Bihar                   220.78348\n",
              "Assam                   220.78348\n",
              "Arunachal Pradesh       220.78348\n",
              "Madhya Pradesh          220.78348\n",
              "West Bengal             220.78348\n",
              "Delhi                   253.00000\n",
              "Uttaranchal             268.00000\n",
              "Name: spm, dtype: float64"
            ]
          },
          "metadata": {
            "tags": []
          }
        },
        {
          "output_type": "execute_result",
          "data": {
            "text/plain": [
              "([0,\n",
              "  1,\n",
              "  2,\n",
              "  3,\n",
              "  4,\n",
              "  5,\n",
              "  6,\n",
              "  7,\n",
              "  8,\n",
              "  9,\n",
              "  10,\n",
              "  11,\n",
              "  12,\n",
              "  13,\n",
              "  14,\n",
              "  15,\n",
              "  16,\n",
              "  17,\n",
              "  18,\n",
              "  19,\n",
              "  20,\n",
              "  21,\n",
              "  22,\n",
              "  23,\n",
              "  24,\n",
              "  25,\n",
              "  26,\n",
              "  27,\n",
              "  28,\n",
              "  29,\n",
              "  30,\n",
              "  31,\n",
              "  32,\n",
              "  33],\n",
              " <a list of 34 Text xticklabel objects>)"
            ]
          },
          "metadata": {
            "tags": []
          },
          "execution_count": 96
        },
        {
          "output_type": "display_data",
          "data": {
            "image/png": "[encoded data removed]",
            "text/plain": [
              "<Figure size 432x288 with 1 Axes>"
            ]
          },
          "metadata": {
            "tags": []
          }
        }
      ]
    },
    {
      "cell_type": "markdown",
      "metadata": {
        "id": "hUalrZAP_g-t",
        "colab_type": "text"
      },
      "source": [
        "### What is the yearly trend in a particular state, say ‘Andhra Pradesh’?\n",
        "\n",
        "Create a new dataframe containing the NO2, SO2, rspm, and spm data regarding state ‘Andhra Pradesh’ only and group it by ‘year’. Display top 5 records after."
      ]
    },
    {
      "cell_type": "code",
      "metadata": {
        "id": "I5XNJFjF_g-u",
        "colab_type": "code",
        "colab": {
          "base_uri": "https://localhost:8080/",
          "height": 235
        },
        "outputId": "84728cac-8442-4e74-dc1b-bb0d37d63c0f"
      },
      "source": [
        "# ... Your code here\n",
        "andhra_pradesh = data[data.state == 'Andhra Pradesh']\n",
        "a_p_groupby = andhra_pradesh.groupby('year')['no2','so2','rspm','spm','year'].mean()\n",
        "a_p_groupby.head()"
      ],
      "execution_count": 97,
      "outputs": [
        {
          "output_type": "execute_result",
          "data": {
            "text/html": [
              "<div>\n",
              "<style scoped>\n",
              "    .dataframe tbody tr th:only-of-type {\n",
              "        vertical-align: middle;\n",
              "    }\n",
              "\n",
              "    .dataframe tbody tr th {\n",
              "        vertical-align: top;\n",
              "    }\n",
              "\n",
              "    .dataframe thead th {\n",
              "        text-align: right;\n",
              "    }\n",
              "</style>\n",
              "<table border=\"1\" class=\"dataframe\">\n",
              "  <thead>\n",
              "    <tr style=\"text-align: right;\">\n",
              "      <th></th>\n",
              "      <th>no2</th>\n",
              "      <th>so2</th>\n",
              "      <th>rspm</th>\n",
              "      <th>spm</th>\n",
              "      <th>year</th>\n",
              "    </tr>\n",
              "    <tr>\n",
              "      <th>year</th>\n",
              "      <th></th>\n",
              "      <th></th>\n",
              "      <th></th>\n",
              "      <th></th>\n",
              "      <th></th>\n",
              "    </tr>\n",
              "  </thead>\n",
              "  <tbody>\n",
              "    <tr>\n",
              "      <th>1990</th>\n",
              "      <td>15.296552</td>\n",
              "      <td>8.868966</td>\n",
              "      <td>108.833091</td>\n",
              "      <td>165.469596</td>\n",
              "      <td>1990</td>\n",
              "    </tr>\n",
              "    <tr>\n",
              "      <th>1991</th>\n",
              "      <td>18.827778</td>\n",
              "      <td>10.811111</td>\n",
              "      <td>108.833091</td>\n",
              "      <td>154.466208</td>\n",
              "      <td>1991</td>\n",
              "    </tr>\n",
              "    <tr>\n",
              "      <th>1992</th>\n",
              "      <td>36.012866</td>\n",
              "      <td>19.766194</td>\n",
              "      <td>108.833091</td>\n",
              "      <td>210.643678</td>\n",
              "      <td>1992</td>\n",
              "    </tr>\n",
              "    <tr>\n",
              "      <th>1993</th>\n",
              "      <td>15.961111</td>\n",
              "      <td>8.544444</td>\n",
              "      <td>108.833091</td>\n",
              "      <td>220.783480</td>\n",
              "      <td>1993</td>\n",
              "    </tr>\n",
              "    <tr>\n",
              "      <th>1994</th>\n",
              "      <td>18.273016</td>\n",
              "      <td>10.760317</td>\n",
              "      <td>108.833091</td>\n",
              "      <td>177.965950</td>\n",
              "      <td>1994</td>\n",
              "    </tr>\n",
              "  </tbody>\n",
              "</table>\n",
              "</div>"
            ],
            "text/plain": [
              "            no2        so2        rspm         spm  year\n",
              "year                                                    \n",
              "1990  15.296552   8.868966  108.833091  165.469596  1990\n",
              "1991  18.827778  10.811111  108.833091  154.466208  1991\n",
              "1992  36.012866  19.766194  108.833091  210.643678  1992\n",
              "1993  15.961111   8.544444  108.833091  220.783480  1993\n",
              "1994  18.273016  10.760317  108.833091  177.965950  1994"
            ]
          },
          "metadata": {
            "tags": []
          },
          "execution_count": 97
        }
      ]
    },
    {
      "cell_type": "code",
      "metadata": {
        "id": "lHbwYHcn_g-x",
        "colab_type": "code",
        "colab": {
          "base_uri": "https://localhost:8080/",
          "height": 282
        },
        "outputId": "42c23e7c-22cb-4620-9114-8a6f62081a3a"
      },
      "source": [
        "# Display yearly trend graph (year vs. value) in pairs: (a) so2 and no2 (b) rspm and spm. \n",
        "# So, you will display TWO graphs altogether.\n",
        "\n",
        "# ... Your code here\n",
        "plt.plot(a_p_groupby.year, a_p_groupby.so2, label='SO2')\n",
        "plt.plot(a_p_groupby.year, a_p_groupby.no2, label='NO2')\n",
        "plt.legend()"
      ],
      "execution_count": 98,
      "outputs": [
        {
          "output_type": "execute_result",
          "data": {
            "text/plain": [
              "<matplotlib.legend.Legend at 0x7f4b58a5e9e8>"
            ]
          },
          "metadata": {
            "tags": []
          },
          "execution_count": 98
        },
        {
          "output_type": "display_data",
          "data": {
            "image/png": "[encoded data removed]",
            "text/plain": [
              "<Figure size 432x288 with 1 Axes>"
            ]
          },
          "metadata": {
            "tags": []
          }
        }
      ]
    },
    {
      "cell_type": "code",
      "metadata": {
        "id": "FgvHXQaPKyLI",
        "colab_type": "code",
        "colab": {
          "base_uri": "https://localhost:8080/",
          "height": 282
        },
        "outputId": "6bcd68f0-22ea-4f81-9cda-9d5fedf70931"
      },
      "source": [
        "plt.plot(a_p_groupby.year, a_p_groupby.rspm, label='rspm')\n",
        "plt.plot(a_p_groupby.year, a_p_groupby.spm, label='spm')\n",
        "plt.legend()"
      ],
      "execution_count": 99,
      "outputs": [
        {
          "output_type": "execute_result",
          "data": {
            "text/plain": [
              "<matplotlib.legend.Legend at 0x7f4b589d62e8>"
            ]
          },
          "metadata": {
            "tags": []
          },
          "execution_count": 99
        },
        {
          "output_type": "display_data",
          "data": {
            "image/png": "[encoded data removed]",
            "text/plain": [
              "<Figure size 432x288 with 1 Axes>"
            ]
          },
          "metadata": {
            "tags": []
          }
        }
      ]
    },
    {
      "cell_type": "markdown",
      "metadata": {
        "id": "ngRnNaz1_g-0",
        "colab_type": "text"
      },
      "source": [
        "Do you find anythumg alarming? Explain what you can conclude from this Exploratory Data Analysis for the State of Andhra Pradesh. Enter your answer here .....\n",
        "\n"
      ]
    },
    {
      "cell_type": "markdown",
      "metadata": {
        "id": "cUCMiRI-LIYg",
        "colab_type": "text"
      },
      "source": [
        "In the State of Andhra Pradesh there seems to be a rapid economic growth followed by the start of a decline which might be the reason for the high NO2 emission which continues to rise then fall over the years. The industrial growth following the economic growth can be seen by a similar line graph shape above.  \n",
        "\n",
        "On the other hand, there is a sudden drop in SPM during the years slightly before and after 2000 as shown by the orange line in the graph. Then it shot back up during 2005. Another thing to note in the second graph is also the start in decline of RSPM values after approximately year 2003. Prior to that, the RSPM values are seemingly constant which produces a straight line."
      ]
    }
  ]
}
