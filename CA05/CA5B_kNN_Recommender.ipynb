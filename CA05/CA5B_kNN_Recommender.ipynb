{
  "nbformat": 4,
  "nbformat_minor": 0,
  "metadata": {
    "colab": {
      "name": "CA5B - kNN Recommender.ipynb",
      "provenance": [],
      "collapsed_sections": []
    },
    "kernelspec": {
      "name": "python3",
      "display_name": "Python 3"
    }
  },
  "cells": [
    {
      "cell_type": "code",
      "metadata": {
        "id": "Vgkm5vI5lZ-b",
        "colab_type": "code",
        "colab": {}
      },
      "source": [
        "import pandas as pd\n",
        "import numpy as np\n",
        "import matplotlib.pyplot as plt\n",
        "from sklearn.neighbors import NearestNeighbors"
      ],
      "execution_count": 0,
      "outputs": []
    },
    {
      "cell_type": "code",
      "metadata": {
        "id": "FM8nPMdTl1vi",
        "colab_type": "code",
        "outputId": "9fb7872c-4d6a-4a23-a18d-2473c6f6a3fb",
        "colab": {
          "base_uri": "https://localhost:8080/",
          "height": 191
        }
      },
      "source": [
        "movies_recs = pd.read_csv('https://github.com/ArinB/CA05-kNN/raw/master/movies_recommendation_data.csv')\n",
        "movies_recs.head()\n",
        "#reads csv data and gives the first few rows"
      ],
      "execution_count": 2,
      "outputs": [
        {
          "output_type": "execute_result",
          "data": {
            "text/html": [
              "<div>\n",
              "<style scoped>\n",
              "    .dataframe tbody tr th:only-of-type {\n",
              "        vertical-align: middle;\n",
              "    }\n",
              "\n",
              "    .dataframe tbody tr th {\n",
              "        vertical-align: top;\n",
              "    }\n",
              "\n",
              "    .dataframe thead th {\n",
              "        text-align: right;\n",
              "    }\n",
              "</style>\n",
              "<table border=\"1\" class=\"dataframe\">\n",
              "  <thead>\n",
              "    <tr style=\"text-align: right;\">\n",
              "      <th></th>\n",
              "      <th>Movie ID</th>\n",
              "      <th>Movie Name</th>\n",
              "      <th>IMDB Rating</th>\n",
              "      <th>Biography</th>\n",
              "      <th>Drama</th>\n",
              "      <th>Thriller</th>\n",
              "      <th>Comedy</th>\n",
              "      <th>Crime</th>\n",
              "      <th>Mystery</th>\n",
              "      <th>History</th>\n",
              "      <th>Label</th>\n",
              "    </tr>\n",
              "  </thead>\n",
              "  <tbody>\n",
              "    <tr>\n",
              "      <th>0</th>\n",
              "      <td>58</td>\n",
              "      <td>The Imitation Game</td>\n",
              "      <td>8.0</td>\n",
              "      <td>1</td>\n",
              "      <td>1</td>\n",
              "      <td>1</td>\n",
              "      <td>0</td>\n",
              "      <td>0</td>\n",
              "      <td>0</td>\n",
              "      <td>0</td>\n",
              "      <td>0</td>\n",
              "    </tr>\n",
              "    <tr>\n",
              "      <th>1</th>\n",
              "      <td>8</td>\n",
              "      <td>Ex Machina</td>\n",
              "      <td>7.7</td>\n",
              "      <td>0</td>\n",
              "      <td>1</td>\n",
              "      <td>0</td>\n",
              "      <td>0</td>\n",
              "      <td>0</td>\n",
              "      <td>1</td>\n",
              "      <td>0</td>\n",
              "      <td>0</td>\n",
              "    </tr>\n",
              "    <tr>\n",
              "      <th>2</th>\n",
              "      <td>46</td>\n",
              "      <td>A Beautiful Mind</td>\n",
              "      <td>8.2</td>\n",
              "      <td>1</td>\n",
              "      <td>1</td>\n",
              "      <td>0</td>\n",
              "      <td>0</td>\n",
              "      <td>0</td>\n",
              "      <td>0</td>\n",
              "      <td>0</td>\n",
              "      <td>0</td>\n",
              "    </tr>\n",
              "    <tr>\n",
              "      <th>3</th>\n",
              "      <td>62</td>\n",
              "      <td>Good Will Hunting</td>\n",
              "      <td>8.3</td>\n",
              "      <td>0</td>\n",
              "      <td>1</td>\n",
              "      <td>0</td>\n",
              "      <td>0</td>\n",
              "      <td>0</td>\n",
              "      <td>0</td>\n",
              "      <td>0</td>\n",
              "      <td>0</td>\n",
              "    </tr>\n",
              "    <tr>\n",
              "      <th>4</th>\n",
              "      <td>97</td>\n",
              "      <td>Forrest Gump</td>\n",
              "      <td>8.8</td>\n",
              "      <td>0</td>\n",
              "      <td>1</td>\n",
              "      <td>0</td>\n",
              "      <td>0</td>\n",
              "      <td>0</td>\n",
              "      <td>0</td>\n",
              "      <td>0</td>\n",
              "      <td>0</td>\n",
              "    </tr>\n",
              "  </tbody>\n",
              "</table>\n",
              "</div>"
            ],
            "text/plain": [
              "   Movie ID          Movie Name  IMDB Rating  ...  Mystery  History  Label\n",
              "0        58  The Imitation Game          8.0  ...        0        0      0\n",
              "1         8          Ex Machina          7.7  ...        1        0      0\n",
              "2        46    A Beautiful Mind          8.2  ...        0        0      0\n",
              "3        62   Good Will Hunting          8.3  ...        0        0      0\n",
              "4        97        Forrest Gump          8.8  ...        0        0      0\n",
              "\n",
              "[5 rows x 11 columns]"
            ]
          },
          "metadata": {
            "tags": []
          },
          "execution_count": 2
        }
      ]
    },
    {
      "cell_type": "code",
      "metadata": {
        "id": "6up3u2SWJ2Ui",
        "colab_type": "code",
        "colab": {
          "base_uri": "https://localhost:8080/",
          "height": 191
        },
        "outputId": "e9236657-34b8-4c17-c1cd-ec46cf6fd53d"
      },
      "source": [
        "movies_recs.drop(['Movie ID', 'Label'], axis = 1, inplace = True)\n",
        "movies_recs.head()\n",
        "#removes Movie ID and Label which are not useful in this recommender"
      ],
      "execution_count": 3,
      "outputs": [
        {
          "output_type": "execute_result",
          "data": {
            "text/html": [
              "<div>\n",
              "<style scoped>\n",
              "    .dataframe tbody tr th:only-of-type {\n",
              "        vertical-align: middle;\n",
              "    }\n",
              "\n",
              "    .dataframe tbody tr th {\n",
              "        vertical-align: top;\n",
              "    }\n",
              "\n",
              "    .dataframe thead th {\n",
              "        text-align: right;\n",
              "    }\n",
              "</style>\n",
              "<table border=\"1\" class=\"dataframe\">\n",
              "  <thead>\n",
              "    <tr style=\"text-align: right;\">\n",
              "      <th></th>\n",
              "      <th>Movie Name</th>\n",
              "      <th>IMDB Rating</th>\n",
              "      <th>Biography</th>\n",
              "      <th>Drama</th>\n",
              "      <th>Thriller</th>\n",
              "      <th>Comedy</th>\n",
              "      <th>Crime</th>\n",
              "      <th>Mystery</th>\n",
              "      <th>History</th>\n",
              "    </tr>\n",
              "  </thead>\n",
              "  <tbody>\n",
              "    <tr>\n",
              "      <th>0</th>\n",
              "      <td>The Imitation Game</td>\n",
              "      <td>8.0</td>\n",
              "      <td>1</td>\n",
              "      <td>1</td>\n",
              "      <td>1</td>\n",
              "      <td>0</td>\n",
              "      <td>0</td>\n",
              "      <td>0</td>\n",
              "      <td>0</td>\n",
              "    </tr>\n",
              "    <tr>\n",
              "      <th>1</th>\n",
              "      <td>Ex Machina</td>\n",
              "      <td>7.7</td>\n",
              "      <td>0</td>\n",
              "      <td>1</td>\n",
              "      <td>0</td>\n",
              "      <td>0</td>\n",
              "      <td>0</td>\n",
              "      <td>1</td>\n",
              "      <td>0</td>\n",
              "    </tr>\n",
              "    <tr>\n",
              "      <th>2</th>\n",
              "      <td>A Beautiful Mind</td>\n",
              "      <td>8.2</td>\n",
              "      <td>1</td>\n",
              "      <td>1</td>\n",
              "      <td>0</td>\n",
              "      <td>0</td>\n",
              "      <td>0</td>\n",
              "      <td>0</td>\n",
              "      <td>0</td>\n",
              "    </tr>\n",
              "    <tr>\n",
              "      <th>3</th>\n",
              "      <td>Good Will Hunting</td>\n",
              "      <td>8.3</td>\n",
              "      <td>0</td>\n",
              "      <td>1</td>\n",
              "      <td>0</td>\n",
              "      <td>0</td>\n",
              "      <td>0</td>\n",
              "      <td>0</td>\n",
              "      <td>0</td>\n",
              "    </tr>\n",
              "    <tr>\n",
              "      <th>4</th>\n",
              "      <td>Forrest Gump</td>\n",
              "      <td>8.8</td>\n",
              "      <td>0</td>\n",
              "      <td>1</td>\n",
              "      <td>0</td>\n",
              "      <td>0</td>\n",
              "      <td>0</td>\n",
              "      <td>0</td>\n",
              "      <td>0</td>\n",
              "    </tr>\n",
              "  </tbody>\n",
              "</table>\n",
              "</div>"
            ],
            "text/plain": [
              "           Movie Name  IMDB Rating  Biography  ...  Crime  Mystery  History\n",
              "0  The Imitation Game          8.0          1  ...      0        0        0\n",
              "1          Ex Machina          7.7          0  ...      0        1        0\n",
              "2    A Beautiful Mind          8.2          1  ...      0        0        0\n",
              "3   Good Will Hunting          8.3          0  ...      0        0        0\n",
              "4        Forrest Gump          8.8          0  ...      0        0        0\n",
              "\n",
              "[5 rows x 9 columns]"
            ]
          },
          "metadata": {
            "tags": []
          },
          "execution_count": 3
        }
      ]
    },
    {
      "cell_type": "code",
      "metadata": {
        "id": "ORo6_vWmiW3b",
        "colab_type": "code",
        "colab": {
          "base_uri": "https://localhost:8080/",
          "height": 191
        },
        "outputId": "11400cec-3f4c-41fc-a4a5-40a91620e6ec"
      },
      "source": [
        "movies_recs = movies_recs.append({'Movie Name' : 'The Post', 'IMDB Rating' : 7.2, 'Biography' : 1, 'Drama' : 1, 'Thriller' : 0, 'Comedy' : 0, 'Crime' : 0, 'Mystery' : 0, 'History' : 1}, ignore_index = True)\n",
        "movies_recs.tail()\n",
        "#inputs the movie 'The Post' which is indicated near the end of the assignment\n",
        "#'The Post' will be used as the base movie to find similar ones to recommend"
      ],
      "execution_count": 4,
      "outputs": [
        {
          "output_type": "execute_result",
          "data": {
            "text/html": [
              "<div>\n",
              "<style scoped>\n",
              "    .dataframe tbody tr th:only-of-type {\n",
              "        vertical-align: middle;\n",
              "    }\n",
              "\n",
              "    .dataframe tbody tr th {\n",
              "        vertical-align: top;\n",
              "    }\n",
              "\n",
              "    .dataframe thead th {\n",
              "        text-align: right;\n",
              "    }\n",
              "</style>\n",
              "<table border=\"1\" class=\"dataframe\">\n",
              "  <thead>\n",
              "    <tr style=\"text-align: right;\">\n",
              "      <th></th>\n",
              "      <th>Movie Name</th>\n",
              "      <th>IMDB Rating</th>\n",
              "      <th>Biography</th>\n",
              "      <th>Drama</th>\n",
              "      <th>Thriller</th>\n",
              "      <th>Comedy</th>\n",
              "      <th>Crime</th>\n",
              "      <th>Mystery</th>\n",
              "      <th>History</th>\n",
              "    </tr>\n",
              "  </thead>\n",
              "  <tbody>\n",
              "    <tr>\n",
              "      <th>26</th>\n",
              "      <td>Spirit: Stallion of the Cimarron</td>\n",
              "      <td>7.1</td>\n",
              "      <td>0</td>\n",
              "      <td>0</td>\n",
              "      <td>0</td>\n",
              "      <td>0</td>\n",
              "      <td>0</td>\n",
              "      <td>0</td>\n",
              "      <td>0</td>\n",
              "    </tr>\n",
              "    <tr>\n",
              "      <th>27</th>\n",
              "      <td>Hacksaw Ridge</td>\n",
              "      <td>8.2</td>\n",
              "      <td>1</td>\n",
              "      <td>1</td>\n",
              "      <td>0</td>\n",
              "      <td>0</td>\n",
              "      <td>0</td>\n",
              "      <td>0</td>\n",
              "      <td>1</td>\n",
              "    </tr>\n",
              "    <tr>\n",
              "      <th>28</th>\n",
              "      <td>12 Years a Slave</td>\n",
              "      <td>8.1</td>\n",
              "      <td>1</td>\n",
              "      <td>1</td>\n",
              "      <td>0</td>\n",
              "      <td>0</td>\n",
              "      <td>0</td>\n",
              "      <td>0</td>\n",
              "      <td>1</td>\n",
              "    </tr>\n",
              "    <tr>\n",
              "      <th>29</th>\n",
              "      <td>Queen of Katwe</td>\n",
              "      <td>7.4</td>\n",
              "      <td>1</td>\n",
              "      <td>1</td>\n",
              "      <td>0</td>\n",
              "      <td>0</td>\n",
              "      <td>0</td>\n",
              "      <td>0</td>\n",
              "      <td>0</td>\n",
              "    </tr>\n",
              "    <tr>\n",
              "      <th>30</th>\n",
              "      <td>The Post</td>\n",
              "      <td>7.2</td>\n",
              "      <td>1</td>\n",
              "      <td>1</td>\n",
              "      <td>0</td>\n",
              "      <td>0</td>\n",
              "      <td>0</td>\n",
              "      <td>0</td>\n",
              "      <td>1</td>\n",
              "    </tr>\n",
              "  </tbody>\n",
              "</table>\n",
              "</div>"
            ],
            "text/plain": [
              "                          Movie Name  IMDB Rating  ...  Mystery  History\n",
              "26  Spirit: Stallion of the Cimarron          7.1  ...        0        0\n",
              "27                     Hacksaw Ridge          8.2  ...        0        1\n",
              "28                  12 Years a Slave          8.1  ...        0        1\n",
              "29                    Queen of Katwe          7.4  ...        0        0\n",
              "30                          The Post          7.2  ...        0        1\n",
              "\n",
              "[5 rows x 9 columns]"
            ]
          },
          "metadata": {
            "tags": []
          },
          "execution_count": 4
        }
      ]
    },
    {
      "cell_type": "code",
      "metadata": {
        "id": "bpAHSMyQS57u",
        "colab_type": "code",
        "colab": {}
      },
      "source": [
        "movie_numdata = movies_recs.copy()\n",
        "movie_numdata.drop(['Movie Name'], axis = 1, inplace = True)\n",
        "#get a numeric only data to fit in kNN algorithm"
      ],
      "execution_count": 0,
      "outputs": []
    },
    {
      "cell_type": "code",
      "metadata": {
        "id": "TQ2MqnYNl7Nv",
        "colab_type": "code",
        "colab": {}
      },
      "source": [
        "nbrs = NearestNeighbors(n_neighbors=6, algorithm='brute').fit(movie_numdata)\n",
        "#sets the n_neighbors as 6 because the first would always return its own number\n",
        "#uses 'brute' algorithm because of small sample and fits the numeric only data"
      ],
      "execution_count": 0,
      "outputs": []
    },
    {
      "cell_type": "code",
      "metadata": {
        "id": "a4wMs_ALMeaS",
        "colab_type": "code",
        "colab": {
          "base_uri": "https://localhost:8080/",
          "height": 521
        },
        "outputId": "f6dd893e-88ef-43cf-a1b2-00e0446227ca"
      },
      "source": [
        "distances, indices = nbrs.kneighbors(movie_numdata)\n",
        "indices.astype(int)\n",
        "print(indices)\n",
        "#sets indices as integer in case of any problems and prints it\n",
        "#as mentioned above, the first number returned is always its own id"
      ],
      "execution_count": 7,
      "outputs": [
        {
          "output_type": "stream",
          "text": [
            "[[ 0 16  2 29 28 27]\n",
            " [ 1  6 18 21 10  9]\n",
            " [ 2 16 29 27  3 28]\n",
            " [ 3 12  4  6 18 21]\n",
            " [ 4 12  3 15 17  2]\n",
            " [ 5 30  9 10 18 21]\n",
            " [ 6 21 18  9 10  3]\n",
            " [ 7 20 10  9 18 21]\n",
            " [ 8 22 24 14 19 17]\n",
            " [ 9 10 18 21  6 19]\n",
            " [ 9 10 18 21  6 19]\n",
            " [11 18 21  6 10  9]\n",
            " [12  4  3  6 17 15]\n",
            " [13 23 25  2 24 22]\n",
            " [14 19 26  8 22 24]\n",
            " [15 17 24 22  8  4]\n",
            " [16 29  2  0  6 28]\n",
            " [17 15 24 22  8 12]\n",
            " [21 18  9 10  6 19]\n",
            " [19 14 26  8 22 24]\n",
            " [20 26 19  7 14  1]\n",
            " [21 18  9 10  6 19]\n",
            " [22  8 24 17 14 19]\n",
            " [23 25 13 19 26 14]\n",
            " [24 22  8 17 15 14]\n",
            " [25  8 22 24 14 19]\n",
            " [26 19 14  8 22 24]\n",
            " [27 28  2 30 16 29]\n",
            " [28 27 30  2 16 29]\n",
            " [29 16  2 18 21  6]\n",
            " [30 28 27 29 16  2]]\n"
          ],
          "name": "stdout"
        }
      ]
    },
    {
      "cell_type": "code",
      "metadata": {
        "id": "Ig9M1nQVT3Su",
        "colab_type": "code",
        "colab": {}
      },
      "source": [
        "def print_similar_movies(query=None, id=None):\n",
        "  if query:\n",
        "    sim_movs = movies_recs.loc[movies_recs['Movie Name'] == query].index[0]\n",
        "    for id in indices[sim_movs][1:]:\n",
        "      print(movies_recs.iloc[id]['Movie Name'])\n",
        "#defines a function to return similar movies computed by brute kNN algorithm.\n",
        "#starts with an if function to get the query which searches through the column\n",
        "  #in movies_recs dataframe to return the movie name. The rows of id in indices\n",
        "  #represent similar movies and when the numbers match the index numbers in\n",
        "  #movies_recs dataframe then the movie names would be returned."
      ],
      "execution_count": 0,
      "outputs": []
    },
    {
      "cell_type": "code",
      "metadata": {
        "id": "4t13vnNCVjXY",
        "colab_type": "code",
        "colab": {
          "base_uri": "https://localhost:8080/",
          "height": 98
        },
        "outputId": "4bcae706-688e-4ada-d30d-03d71faf95e0"
      },
      "source": [
        "print_similar_movies(query='Forrest Gump')\n",
        "#tests the function with movie 'Forrest Gump'"
      ],
      "execution_count": 9,
      "outputs": [
        {
          "output_type": "stream",
          "text": [
            "Interstellar\n",
            "Good Will Hunting\n",
            "Inception\n",
            "Spirited Away\n",
            "A Beautiful Mind\n"
          ],
          "name": "stdout"
        }
      ]
    },
    {
      "cell_type": "code",
      "metadata": {
        "id": "LAM2oHDTVqDr",
        "colab_type": "code",
        "colab": {
          "base_uri": "https://localhost:8080/",
          "height": 98
        },
        "outputId": "cfcdba4d-0de4-47c0-b301-7d5ccc091d08"
      },
      "source": [
        "print_similar_movies(query='The Post')\n",
        "#prints similar movies to 'The Post'"
      ],
      "execution_count": 10,
      "outputs": [
        {
          "output_type": "stream",
          "text": [
            "12 Years a Slave\n",
            "Hacksaw Ridge\n",
            "Queen of Katwe\n",
            "The Wind Rises\n",
            "A Beautiful Mind\n"
          ],
          "name": "stdout"
        }
      ]
    }
  ]
}