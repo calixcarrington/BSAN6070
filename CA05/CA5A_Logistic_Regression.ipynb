{
  "nbformat": 4,
  "nbformat_minor": 0,
  "metadata": {
    "colab": {
      "name": "CA5A - Logistic Regression.ipynb",
      "provenance": [],
      "collapsed_sections": []
    },
    "kernelspec": {
      "name": "python3",
      "display_name": "Python 3"
    }
  },
  "cells": [
    {
      "cell_type": "code",
      "metadata": {
        "id": "A_Dr_r8IEigJ",
        "colab_type": "code",
        "colab": {}
      },
      "source": [
        "import pandas as pd\n",
        "import numpy as np\n",
        "import matplotlib.pyplot as plt\n",
        "from sklearn.metrics import accuracy_score, roc_curve, roc_auc_score\n",
        "from sklearn.model_selection import train_test_split, GridSearchCV\n",
        "from sklearn.linear_model import LogisticRegression\n",
        "from sklearn import preprocessing, metrics"
      ],
      "execution_count": 0,
      "outputs": []
    },
    {
      "cell_type": "markdown",
      "metadata": {
        "id": "Sg-7Lrfpj4L3",
        "colab_type": "text"
      },
      "source": [
        "# Part 1\n",
        "Build a binary classifier model to predict the CVD Risk (Yes/No, or 1/0) using a Logistic Regression Model with the best performance possible"
      ]
    },
    {
      "cell_type": "code",
      "metadata": {
        "id": "5uj-Rwbkja5t",
        "colab_type": "code",
        "outputId": "c5ce4147-078b-4735-ded9-8c041c557866",
        "colab": {
          "base_uri": "https://localhost:8080/",
          "height": 191
        }
      },
      "source": [
        "cvd_data = pd.read_csv('https://github.com/ArinB/CA05-B-Logistic-Regression/raw/master/cvd_data.csv')\n",
        "cvd_data.head()\n",
        "#read csv data and show first few rows"
      ],
      "execution_count": 2,
      "outputs": [
        {
          "output_type": "execute_result",
          "data": {
            "text/html": [
              "<div>\n",
              "<style scoped>\n",
              "    .dataframe tbody tr th:only-of-type {\n",
              "        vertical-align: middle;\n",
              "    }\n",
              "\n",
              "    .dataframe tbody tr th {\n",
              "        vertical-align: top;\n",
              "    }\n",
              "\n",
              "    .dataframe thead th {\n",
              "        text-align: right;\n",
              "    }\n",
              "</style>\n",
              "<table border=\"1\" class=\"dataframe\">\n",
              "  <thead>\n",
              "    <tr style=\"text-align: right;\">\n",
              "      <th></th>\n",
              "      <th>cvd_4types</th>\n",
              "      <th>age_s1</th>\n",
              "      <th>race</th>\n",
              "      <th>educat</th>\n",
              "      <th>mstat</th>\n",
              "      <th>hip</th>\n",
              "      <th>neck20</th>\n",
              "      <th>waist</th>\n",
              "      <th>av_weight_kg</th>\n",
              "      <th>cgpkyr</th>\n",
              "      <th>tea15</th>\n",
              "      <th>srhype</th>\n",
              "      <th>parrptdiab</th>\n",
              "      <th>bend25</th>\n",
              "      <th>happy25</th>\n",
              "      <th>tired25</th>\n",
              "      <th>hlthlm25</th>\n",
              "    </tr>\n",
              "  </thead>\n",
              "  <tbody>\n",
              "    <tr>\n",
              "      <th>0</th>\n",
              "      <td>0</td>\n",
              "      <td>54</td>\n",
              "      <td>1</td>\n",
              "      <td>2</td>\n",
              "      <td>1</td>\n",
              "      <td>110.0</td>\n",
              "      <td>40.0</td>\n",
              "      <td>108.0</td>\n",
              "      <td>87.5</td>\n",
              "      <td>34.0</td>\n",
              "      <td>0</td>\n",
              "      <td>1</td>\n",
              "      <td>0</td>\n",
              "      <td>1</td>\n",
              "      <td>2</td>\n",
              "      <td>3</td>\n",
              "      <td>4</td>\n",
              "    </tr>\n",
              "    <tr>\n",
              "      <th>1</th>\n",
              "      <td>0</td>\n",
              "      <td>56</td>\n",
              "      <td>3</td>\n",
              "      <td>2</td>\n",
              "      <td>1</td>\n",
              "      <td>113.0</td>\n",
              "      <td>34.0</td>\n",
              "      <td>107.0</td>\n",
              "      <td>83.5</td>\n",
              "      <td>0.0</td>\n",
              "      <td>0</td>\n",
              "      <td>0</td>\n",
              "      <td>0</td>\n",
              "      <td>2</td>\n",
              "      <td>2</td>\n",
              "      <td>1</td>\n",
              "      <td>3</td>\n",
              "    </tr>\n",
              "    <tr>\n",
              "      <th>2</th>\n",
              "      <td>0</td>\n",
              "      <td>54</td>\n",
              "      <td>1</td>\n",
              "      <td>3</td>\n",
              "      <td>1</td>\n",
              "      <td>110.0</td>\n",
              "      <td>44.5</td>\n",
              "      <td>105.0</td>\n",
              "      <td>86.2</td>\n",
              "      <td>49.5</td>\n",
              "      <td>0</td>\n",
              "      <td>0</td>\n",
              "      <td>0</td>\n",
              "      <td>3</td>\n",
              "      <td>2</td>\n",
              "      <td>6</td>\n",
              "      <td>4</td>\n",
              "    </tr>\n",
              "    <tr>\n",
              "      <th>3</th>\n",
              "      <td>0</td>\n",
              "      <td>54</td>\n",
              "      <td>1</td>\n",
              "      <td>3</td>\n",
              "      <td>1</td>\n",
              "      <td>129.0</td>\n",
              "      <td>42.5</td>\n",
              "      <td>110.0</td>\n",
              "      <td>89.1</td>\n",
              "      <td>0.0</td>\n",
              "      <td>0</td>\n",
              "      <td>0</td>\n",
              "      <td>0</td>\n",
              "      <td>3</td>\n",
              "      <td>2</td>\n",
              "      <td>1</td>\n",
              "      <td>3</td>\n",
              "    </tr>\n",
              "    <tr>\n",
              "      <th>4</th>\n",
              "      <td>0</td>\n",
              "      <td>51</td>\n",
              "      <td>3</td>\n",
              "      <td>2</td>\n",
              "      <td>1</td>\n",
              "      <td>122.0</td>\n",
              "      <td>37.0</td>\n",
              "      <td>113.0</td>\n",
              "      <td>81.3</td>\n",
              "      <td>0.0</td>\n",
              "      <td>0</td>\n",
              "      <td>0</td>\n",
              "      <td>0</td>\n",
              "      <td>2</td>\n",
              "      <td>1</td>\n",
              "      <td>1</td>\n",
              "      <td>2</td>\n",
              "    </tr>\n",
              "  </tbody>\n",
              "</table>\n",
              "</div>"
            ],
            "text/plain": [
              "   cvd_4types  age_s1  race  educat  ...  bend25  happy25  tired25  hlthlm25\n",
              "0           0      54     1       2  ...       1        2        3         4\n",
              "1           0      56     3       2  ...       2        2        1         3\n",
              "2           0      54     1       3  ...       3        2        6         4\n",
              "3           0      54     1       3  ...       3        2        1         3\n",
              "4           0      51     3       2  ...       2        1        1         2\n",
              "\n",
              "[5 rows x 17 columns]"
            ]
          },
          "metadata": {
            "tags": []
          },
          "execution_count": 2
        }
      ]
    },
    {
      "cell_type": "code",
      "metadata": {
        "id": "c3X2LmQGE-Mt",
        "colab_type": "code",
        "colab": {}
      },
      "source": [
        "scaler = preprocessing.MinMaxScaler()\n",
        "#set the scaler to a variable which will be used later"
      ],
      "execution_count": 0,
      "outputs": []
    },
    {
      "cell_type": "code",
      "metadata": {
        "id": "CAgYJijlJqyS",
        "colab_type": "code",
        "colab": {}
      },
      "source": [
        "X_scaled = scaler.fit_transform(cvd_data.drop('cvd_4types', axis=1))\n",
        "#normalize the other numbers aside from cvd_4types to 0 to 1"
      ],
      "execution_count": 0,
      "outputs": []
    },
    {
      "cell_type": "code",
      "metadata": {
        "id": "lX-PhwNhJqtS",
        "colab_type": "code",
        "colab": {}
      },
      "source": [
        "X_train, X_test, y_train, y_test = train_test_split(X_scaled, cvd_data['cvd_4types'], test_size = 0.3, random_state=np.random)\n",
        "#split to train and test sets and use scaled X values and cvd_4types as y\n",
        "#randomize the random_state"
      ],
      "execution_count": 0,
      "outputs": []
    },
    {
      "cell_type": "code",
      "metadata": {
        "id": "OmWYLf2hJqrR",
        "colab_type": "code",
        "colab": {
          "base_uri": "https://localhost:8080/",
          "height": 98
        },
        "outputId": "86eeeac6-5dcf-41da-f390-b101b7efd7e7"
      },
      "source": [
        "logreg = LogisticRegression()\n",
        "logreg.fit(X_train, y_train)\n",
        "#fit the train values into logistic regression without any parameter tuning"
      ],
      "execution_count": 6,
      "outputs": [
        {
          "output_type": "execute_result",
          "data": {
            "text/plain": [
              "LogisticRegression(C=1.0, class_weight=None, dual=False, fit_intercept=True,\n",
              "                   intercept_scaling=1, l1_ratio=None, max_iter=100,\n",
              "                   multi_class='auto', n_jobs=None, penalty='l2',\n",
              "                   random_state=None, solver='lbfgs', tol=0.0001, verbose=0,\n",
              "                   warm_start=False)"
            ]
          },
          "metadata": {
            "tags": []
          },
          "execution_count": 6
        }
      ]
    },
    {
      "cell_type": "code",
      "metadata": {
        "id": "n0NGfPTIJqjP",
        "colab_type": "code",
        "colab": {}
      },
      "source": [
        "#to get the best possible result, we need to tune the hyperparameters\n",
        "C = np.logspace(0, 2, num=100)\n",
        "#set the regularization strength as positive float from 0 to 2\n",
        "\n",
        "solver = ['newton-cg', 'lbfgs', 'liblinear', 'sag', 'saga']\n",
        "#set the possible solvers for the algorithm to use to optimize the problem\n",
        "\n",
        "hyperparameters = dict(C=C, solver=solver)\n",
        "#put the values in a dict for hyperparameter"
      ],
      "execution_count": 0,
      "outputs": []
    },
    {
      "cell_type": "code",
      "metadata": {
        "id": "LFu7gCJdJqgs",
        "colab_type": "code",
        "colab": {}
      },
      "source": [
        "clf = GridSearchCV(logreg, hyperparameters, cv=5)\n",
        "#GridSearch is then used to find the optimal combination of C and solver"
      ],
      "execution_count": 0,
      "outputs": []
    },
    {
      "cell_type": "code",
      "metadata": {
        "id": "kycPUnDmJqeK",
        "colab_type": "code",
        "colab": {
          "base_uri": "https://localhost:8080/",
          "height": 50
        },
        "outputId": "0e9e5db7-0010-48e5-b152-b1ed58d632a9"
      },
      "source": [
        "best_model = clf.fit(X_train, y_train)\n",
        "print('Best solver: ', best_model.best_estimator_.get_params()['solver'])\n",
        "print('Best C: ', best_model.best_estimator_.get_params()['C'])\n",
        "#fits the train data to the best model and prints the best C and solver"
      ],
      "execution_count": 9,
      "outputs": [
        {
          "output_type": "stream",
          "text": [
            "Best solver:  lbfgs\n",
            "Best C:  11.768119524349984\n"
          ],
          "name": "stdout"
        }
      ]
    },
    {
      "cell_type": "code",
      "metadata": {
        "id": "68Xl1rRVJqUo",
        "colab_type": "code",
        "colab": {
          "base_uri": "https://localhost:8080/",
          "height": 33
        },
        "outputId": "e3fe164c-0abb-4a1a-8afd-cb4d8f98a9a7"
      },
      "source": [
        "logreg = LogisticRegression(C=best_model.best_estimator_.get_params()['C'], solver=best_model.best_estimator_.get_params()['solver'], random_state=np.random)\n",
        "logreg.fit(X_train, y_train)\n",
        "y_pred = logreg.predict (X_test)\n",
        "accuracy = accuracy_score(y_test, y_pred)\n",
        "print(accuracy)\n",
        "#use the best solver type and C obtained above to fit the dataset again\n",
        "#predict y and print the accuracy using the best C and best solver"
      ],
      "execution_count": 10,
      "outputs": [
        {
          "output_type": "stream",
          "text": [
            "0.6937307297019527\n"
          ],
          "name": "stdout"
        }
      ]
    },
    {
      "cell_type": "markdown",
      "metadata": {
        "id": "N2wqmofZkI8D",
        "colab_type": "text"
      },
      "source": [
        "# Part 2\n",
        "Display the Feature Importance of all the features sorted in the order of decreasing influence on the CVD Risk"
      ]
    },
    {
      "cell_type": "code",
      "metadata": {
        "id": "v2Sa2f2CUI_e",
        "colab_type": "code",
        "colab": {
          "base_uri": "https://localhost:8080/",
          "height": 358
        },
        "outputId": "9bd6ebf8-61fe-450d-b785-070dfb45bca9"
      },
      "source": [
        "feature_name = list(cvd_data)[1:]\n",
        "print(feature_name)\n",
        "#set the names of the features in a list and print them\n",
        "\n",
        "feature_coef = logreg.coef_[0]\n",
        "print(feature_coef)\n",
        "#set the coefficients of the feature importance of each feature names and print\n",
        "\n",
        "feature_importance = pd.Series(logreg.coef_[0], index=feature_name)\n",
        "feature_importance.sort_values(ascending=False)\n",
        "#rearrange the features by descending order of importance"
      ],
      "execution_count": 11,
      "outputs": [
        {
          "output_type": "stream",
          "text": [
            "['age_s1', 'race', 'educat', 'mstat', 'hip', 'neck20', 'waist', 'av_weight_kg', 'cgpkyr', 'tea15', 'srhype', 'parrptdiab', 'bend25', 'happy25', 'tired25', 'hlthlm25']\n",
            "[ 0.14640586 -2.00412375  0.85477808 -0.97662291 -6.48368908 -1.18837396\n",
            "  5.26536892 -2.01959365  0.12151932 -2.12603026  0.1203633   0.68155351\n",
            "  0.31830534 -0.40266624  0.44655397 -2.50182534]\n"
          ],
          "name": "stdout"
        },
        {
          "output_type": "execute_result",
          "data": {
            "text/plain": [
              "waist           5.265369\n",
              "educat          0.854778\n",
              "parrptdiab      0.681554\n",
              "tired25         0.446554\n",
              "bend25          0.318305\n",
              "age_s1          0.146406\n",
              "cgpkyr          0.121519\n",
              "srhype          0.120363\n",
              "happy25        -0.402666\n",
              "mstat          -0.976623\n",
              "neck20         -1.188374\n",
              "race           -2.004124\n",
              "av_weight_kg   -2.019594\n",
              "tea15          -2.126030\n",
              "hlthlm25       -2.501825\n",
              "hip            -6.483689\n",
              "dtype: float64"
            ]
          },
          "metadata": {
            "tags": []
          },
          "execution_count": 11
        }
      ]
    },
    {
      "cell_type": "markdown",
      "metadata": {
        "id": "aWt1lk66uF0W",
        "colab_type": "text"
      },
      "source": [
        "As can be seen by the data shown above, waist has the highest feature importance according to other variables in the dataset, followed by Education.\n",
        "However, it is hard to believe that both these factors would be the top determinants of a person getting Cardiovascular Disease (CVD), compared to other variables. As such, there may be a lot of other factors to consider in this model and some assumptions made in order for the model to function before blindly trusting the results. Furthermore, it is shown that the accuracy of the model varies between 0.69 to 0.72 (variance caused by np.random)."
      ]
    },
    {
      "cell_type": "markdown",
      "metadata": {
        "id": "8mTT5rl2kN0m",
        "colab_type": "text"
      },
      "source": [
        "# Part 3\n",
        "Evaluate the performance of your model (including ROC Curve), explain the performance and draw a meaningful conclusion."
      ]
    },
    {
      "cell_type": "code",
      "metadata": {
        "id": "ZgSYpRunZvYQ",
        "colab_type": "code",
        "colab": {
          "base_uri": "https://localhost:8080/",
          "height": 282
        },
        "outputId": "22f79049-1684-4bd7-c601-87c46c84970c"
      },
      "source": [
        "y_pred_score = logreg.predict_proba(X_test)[:,1]\n",
        "fpr, tpr, thresholds = metrics.roc_curve(y_test, y_pred_score)\n",
        "metrics.auc(fpr, tpr)\n",
        "plt.plot(fpr, tpr, label = 'Prediction')\n",
        "plt.plot([0, 1], [0, 1], label = 'Random')\n",
        "plt.xlim([0, 1])\n",
        "plt.ylim([0, 1])\n",
        "plt.ylabel('True Positive Rate')\n",
        "plt.xlabel('False Positive Rate')\n",
        "plt.legend()\n",
        "plt.show()\n",
        "#plot the roc curve and the random line"
      ],
      "execution_count": 12,
      "outputs": [
        {
          "output_type": "display_data",
          "data": {
            "image/png": "[encoded data removed]",
            "text/plain": [
              "<Figure size 432x288 with 1 Axes>"
            ]
          },
          "metadata": {
            "tags": []
          }
        }
      ]
    },
    {
      "cell_type": "code",
      "metadata": {
        "id": "Sqn-KL_YcKnw",
        "colab_type": "code",
        "colab": {
          "base_uri": "https://localhost:8080/",
          "height": 33
        },
        "outputId": "09788bcd-4cd5-4816-ba23-c0d47d7b2b23"
      },
      "source": [
        "auc_score = roc_auc_score(y_test, y_pred_score)\n",
        "print(auc_score)\n",
        "#print the auc score of the model"
      ],
      "execution_count": 13,
      "outputs": [
        {
          "output_type": "stream",
          "text": [
            "0.7107094163697937\n"
          ],
          "name": "stdout"
        }
      ]
    }
  ]
}